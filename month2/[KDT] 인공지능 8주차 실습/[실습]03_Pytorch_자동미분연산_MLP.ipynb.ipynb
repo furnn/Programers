{
  "cells": [
    {
      "attachments": {},
      "cell_type": "markdown",
      "metadata": {
        "id": "q_lGKmGGqnTa"
      },
      "source": [
        "# Pytorch Tutoral - Autograd & MLP(Multi-layer perceptron)"
      ]
    },
    {
      "attachments": {},
      "cell_type": "markdown",
      "metadata": {
        "id": "4WO0S9d_uHX6"
      },
      "source": [
        "# Autograd\n",
        "\n",
        "- `autograd`패키지는 텐서의 모든 연산에 대한 자동 미분을 제공\n",
        "- 실행-기반-정의(define-by-run) 프레임워크로, 코드를 어떻게 작성하여 실행하느냐에 따라 역전파가 정의된다는 것을 의미\n",
        "- 역전파는 학습 과정의 매 단계마다 달라짐\n"
      ]
    },
    {
      "attachments": {},
      "cell_type": "markdown",
      "metadata": {
        "id": "SF17xKuauw9r"
      },
      "source": [
        "## Tensor\n",
        "\n",
        "- `torch.Tensor` 클래스의 `.requires_grad` 속성을 `True`로 설정하면, 해당 텐서에서 이루어진 모든 연산을 추적(track)하기 시작\n",
        "- 계산이 완료된 후 `.backward()`를 호출하여 모든 변화도(gradient)를 자동으로 계산할 수 있으며 이 Tensor의 변화도는 `.grad` 속성에 누적됨\n",
        "- Tensor가 기록을 추적하는 것을 중단하게 하려면, `.detach()`를 호출하여 연산기록으로부터 분리하여 연산이 추적되는 것을 방지할 수 있음\n",
        "- 기록을 추적하는 것(과 메모리를 사용하는 것)을 방지하기 위해서 코드 블럭을 `with torch.no_grad():`로 감쌀 수 있음\n",
        "- 이는 변화도(gradient)는 필요 없지만 `requires_grad=True`가 설정되어 학습 가능한 매개변수를 갖는 모델을 평가(evaluate)할 때 유용\n",
        "- Autograd 구현에서 `Function` 클래스는 매우 중요한 역할을 수행\n",
        "- `Tensor`와 `Function`은 서로 연결되어 있고 모든 연산 과정을 부호화하여 순환하지 않는 그래프를 생성\n",
        "- 각 tensor는 `.grad_fn` 속성을 가지고 있는데 이는 `Tensor`를 생성한 `Function`을 참조함(단, 사용자가 만든 Tensor는 예외이며, 사용자가 만든 Tensor가 아닌 연산에 의해 생긴 텐서와 같은 경우는 모두 `Function`을 참조)\n",
        "- 도함수를 계산하기 위해서는 `Tensor`의 `.backward()`를 호출하면 됨"
      ]
    },
    {
      "cell_type": "code",
      "execution_count": 1,
      "metadata": {
        "colab": {
          "base_uri": "https://localhost:8080/"
        },
        "id": "gTKjPjHGtsW1",
        "outputId": "90b19fda-ea20-45a3-b315-534df70f1781"
      },
      "outputs": [
        {
          "name": "stdout",
          "output_type": "stream",
          "text": [
            "2.0.1+cu118\n"
          ]
        }
      ],
      "source": [
        "import torch\n",
        "\n",
        "print(torch.__version__)"
      ]
    },
    {
      "cell_type": "code",
      "execution_count": 2,
      "metadata": {
        "colab": {
          "base_uri": "https://localhost:8080/"
        },
        "id": "Fvs-s2KpPp-h",
        "outputId": "38378dcc-2228-4a2a-a592-5cec9d2ce21e"
      },
      "outputs": [
        {
          "name": "stdout",
          "output_type": "stream",
          "text": [
            "tensor([[1., 1.],\n",
            "        [1., 1.]], requires_grad=True)\n",
            "None\n"
          ]
        }
      ],
      "source": [
        "# x의 연산 과적을 추적하기 위해 requires_grad=True로 설정\n",
        "x = torch.ones(2, 2, requires_grad=True)\n",
        "print(x)\n",
        "\n",
        "# 직접 생선한 Tensor이기 때문에 grad_fn이 None인 것을 확인할 수 있음\n",
        "print(x.grad_fn)"
      ]
    },
    {
      "cell_type": "code",
      "execution_count": 3,
      "metadata": {
        "colab": {
          "base_uri": "https://localhost:8080/"
        },
        "id": "jaqxHcfkPvQP",
        "outputId": "38558535-512a-4cdb-8b05-ea87db509b46"
      },
      "outputs": [
        {
          "name": "stdout",
          "output_type": "stream",
          "text": [
            "tensor([[3., 3.],\n",
            "        [3., 3.]], grad_fn=<AddBackward0>)\n"
          ]
        }
      ],
      "source": [
        "# y는 연산의 결과로 생성된 것이기 때문에 grad_fn을 갖고 있는 것을 확인 가능\n",
        "y = x + 2\n",
        "print(y)"
      ]
    },
    {
      "cell_type": "code",
      "execution_count": 4,
      "metadata": {
        "colab": {
          "base_uri": "https://localhost:8080/"
        },
        "id": "lw-YLFNBQoqa",
        "outputId": "6cd6453c-23cd-464d-91ef-5cc37a665ef9"
      },
      "outputs": [
        {
          "name": "stdout",
          "output_type": "stream",
          "text": [
            "<AddBackward0 object at 0x0000025D624756A0>\n"
          ]
        }
      ],
      "source": [
        "# 연산의 결과로 생성된 것이기 때문에 grad_fn을 갖는 것을 확인 가능\n",
        "print(y.grad_fn)"
      ]
    },
    {
      "cell_type": "code",
      "execution_count": 5,
      "metadata": {
        "colab": {
          "base_uri": "https://localhost:8080/"
        },
        "id": "Im5ImouqdyZd",
        "outputId": "7859207c-73c4-47f5-afad-a0ca86dfdd8e"
      },
      "outputs": [
        {
          "name": "stdout",
          "output_type": "stream",
          "text": [
            "tensor([[27., 27.],\n",
            "        [27., 27.]], grad_fn=<MulBackward0>)\n",
            "tensor(27., grad_fn=<MeanBackward0>)\n"
          ]
        }
      ],
      "source": [
        "z = y * y * 3\n",
        "out = z.mean()\n",
        "\n",
        "# 각각 사용한 func에 맞게 grad_fn이 생성된 것을 확인할 수 있음\n",
        "print(z)\n",
        "print(out)"
      ]
    },
    {
      "attachments": {},
      "cell_type": "markdown",
      "metadata": {
        "id": "TF5JzkVjemZl"
      },
      "source": [
        "- `requires_grad_()`를 사용하면 기존 Tensor의 `requires_grad` 값을 바꿀 수 있음\n",
        "- 입력 값이 지정되지 않으면 기본 값은 `False`"
      ]
    },
    {
      "cell_type": "code",
      "execution_count": 6,
      "metadata": {
        "colab": {
          "base_uri": "https://localhost:8080/"
        },
        "id": "0NJ9HewEd_3_",
        "outputId": "bc8366af-0703-495e-8074-9cf314627fa4"
      },
      "outputs": [
        {
          "name": "stdout",
          "output_type": "stream",
          "text": [
            "tensor([[-2.5076,  0.5376],\n",
            "        [ 0.2332, -0.3599]])\n"
          ]
        }
      ],
      "source": [
        "a = torch.randn(2, 2)\n",
        "print(a)"
      ]
    },
    {
      "cell_type": "code",
      "execution_count": 7,
      "metadata": {
        "colab": {
          "base_uri": "https://localhost:8080/"
        },
        "id": "pcnqPfCaezpt",
        "outputId": "753a6d76-d926-4de8-d122-ace7ebad889b"
      },
      "outputs": [
        {
          "name": "stdout",
          "output_type": "stream",
          "text": [
            "tensor([[ 2.1447, -3.4874],\n",
            "        [-0.9121,  0.7940]])\n",
            "False\n"
          ]
        }
      ],
      "source": [
        "a = ((a * 3) / (a - 1))\n",
        "print(a)\n",
        "print(a.requires_grad)"
      ]
    },
    {
      "cell_type": "code",
      "execution_count": 8,
      "metadata": {
        "colab": {
          "base_uri": "https://localhost:8080/"
        },
        "id": "ItC00jyde5_2",
        "outputId": "36117d85-f005-4017-bc13-a9234622da82"
      },
      "outputs": [
        {
          "data": {
            "text/plain": [
              "tensor([[ 2.1447, -3.4874],\n",
              "        [-0.9121,  0.7940]], requires_grad=True)"
            ]
          },
          "execution_count": 8,
          "metadata": {},
          "output_type": "execute_result"
        }
      ],
      "source": [
        "a.requires_grad_(True)"
      ]
    },
    {
      "cell_type": "code",
      "execution_count": 9,
      "metadata": {
        "colab": {
          "base_uri": "https://localhost:8080/"
        },
        "id": "mnzFfYAOe7p_",
        "outputId": "7b1f8143-6b84-4748-e9f7-79d93b95d4c0"
      },
      "outputs": [
        {
          "name": "stdout",
          "output_type": "stream",
          "text": [
            "True\n"
          ]
        }
      ],
      "source": [
        "print(a.requires_grad)"
      ]
    },
    {
      "cell_type": "code",
      "execution_count": 10,
      "metadata": {
        "colab": {
          "base_uri": "https://localhost:8080/"
        },
        "id": "fzRsVdI6e9G_",
        "outputId": "ca29930e-03a1-4bb2-b964-18eb14e6d30a"
      },
      "outputs": [
        {
          "name": "stdout",
          "output_type": "stream",
          "text": [
            "tensor(18.2243, grad_fn=<SumBackward0>)\n",
            "True\n"
          ]
        }
      ],
      "source": [
        "b = (a * a).sum()\n",
        "print(b)\n",
        "print(b.requires_grad)"
      ]
    },
    {
      "attachments": {},
      "cell_type": "markdown",
      "metadata": {
        "id": "PvvApXb8fEwT"
      },
      "source": [
        "## 변화도(Gradient)\n"
      ]
    },
    {
      "cell_type": "code",
      "execution_count": 11,
      "metadata": {},
      "outputs": [
        {
          "name": "stdout",
          "output_type": "stream",
          "text": [
            "tensor([[0.0276, 0.6363, 0.1361, 0.9308, 0.8038]], requires_grad=True)\n",
            "tensor([[4.0276, 4.6363, 4.1361, 4.9308, 4.8038]], grad_fn=<AddBackward0>)\n",
            "tensor(4.5069, grad_fn=<MeanBackward0>) tensor(22.5346, grad_fn=<SumBackward0>)\n"
          ]
        }
      ],
      "source": [
        "q=torch.rand(1,5)\n",
        "q.requires_grad_(True)\n",
        "print(q)\n",
        "#w=q*3\n",
        "#print(w)\n",
        "e=q+4\n",
        "print(e)\n",
        "r=e.mean()\n",
        "t=e.sum()\n",
        "print(r,t)"
      ]
    },
    {
      "cell_type": "code",
      "execution_count": 12,
      "metadata": {},
      "outputs": [],
      "source": [
        "q.grad"
      ]
    },
    {
      "cell_type": "code",
      "execution_count": 13,
      "metadata": {},
      "outputs": [
        {
          "name": "stdout",
          "output_type": "stream",
          "text": [
            "tensor([1.], requires_grad=True)\n",
            "tensor([15.], grad_fn=<MulBackward0>)\n",
            "===== Run backward =====\n",
            "tensor([15.], grad_fn=<MulBackward0>)\n",
            "tensor([3.])\n"
          ]
        }
      ],
      "source": [
        "x = torch.ones(1, requires_grad=True)\n",
        "print(x)\n",
        "y = x + 4\n",
        "y = y * 3\n",
        "print(y)\n",
        "print(\"===== Run backward =====\")\n",
        "y.backward()\n",
        "print(y)\n",
        "print(x.grad)"
      ]
    },
    {
      "cell_type": "code",
      "execution_count": 14,
      "metadata": {},
      "outputs": [
        {
          "data": {
            "text/plain": [
              "tensor(4.5069, grad_fn=<MeanBackward0>)"
            ]
          },
          "execution_count": 14,
          "metadata": {},
          "output_type": "execute_result"
        }
      ],
      "source": [
        "r.backward()\n",
        "r"
      ]
    },
    {
      "cell_type": "code",
      "execution_count": 15,
      "metadata": {},
      "outputs": [
        {
          "data": {
            "text/plain": [
              "tensor(22.5346, grad_fn=<SumBackward0>)"
            ]
          },
          "execution_count": 15,
          "metadata": {},
          "output_type": "execute_result"
        }
      ],
      "source": [
        "t.backward()\n",
        "t"
      ]
    },
    {
      "cell_type": "code",
      "execution_count": 16,
      "metadata": {
        "colab": {
          "base_uri": "https://localhost:8080/",
          "height": 511
        },
        "id": "IFs3cy6DJIBz",
        "outputId": "51718146-6ba8-4345-d9aa-69b4145a7918"
      },
      "outputs": [
        {
          "name": "stdout",
          "output_type": "stream",
          "text": [
            "tensor(27., grad_fn=<MeanBackward0>)\n",
            "tensor([3.])\n",
            "None\n",
            "tensor([[0.2500, 0.2500],\n",
            "        [0.2500, 0.2500]])\n",
            "False\n"
          ]
        },
        {
          "ename": "RuntimeError",
          "evalue": "Trying to backward through the graph a second time (or directly access saved tensors after they have already been freed). Saved intermediate values of the graph are freed when you call .backward() or autograd.grad(). Specify retain_graph=True if you need to backward through the graph a second time or if you need to access saved tensors after calling backward.",
          "output_type": "error",
          "traceback": [
            "\u001b[1;31m---------------------------------------------------------------------------\u001b[0m",
            "\u001b[1;31mRuntimeError\u001b[0m                              Traceback (most recent call last)",
            "\u001b[1;32m~\\AppData\\Local\\Temp/ipykernel_5272/3537576953.py\u001b[0m in \u001b[0;36m<module>\u001b[1;34m\u001b[0m\n\u001b[0;32m     13\u001b[0m \u001b[0mprint\u001b[0m\u001b[1;33m(\u001b[0m\u001b[0mz\u001b[0m\u001b[1;33m.\u001b[0m\u001b[0mis_leaf\u001b[0m\u001b[1;33m)\u001b[0m\u001b[1;33m\u001b[0m\u001b[1;33m\u001b[0m\u001b[0m\n\u001b[0;32m     14\u001b[0m \u001b[1;33m\u001b[0m\u001b[0m\n\u001b[1;32m---> 15\u001b[1;33m \u001b[0mout\u001b[0m\u001b[1;33m.\u001b[0m\u001b[0mbackward\u001b[0m\u001b[1;33m(\u001b[0m\u001b[1;33m)\u001b[0m\u001b[1;33m\u001b[0m\u001b[1;33m\u001b[0m\u001b[0m\n\u001b[0m\u001b[0;32m     16\u001b[0m \u001b[0mprint\u001b[0m\u001b[1;33m(\u001b[0m\u001b[0mx\u001b[0m\u001b[1;33m.\u001b[0m\u001b[0mgrad\u001b[0m\u001b[1;33m)\u001b[0m\u001b[1;33m\u001b[0m\u001b[1;33m\u001b[0m\u001b[0m\n\u001b[0;32m     17\u001b[0m \u001b[0mprint\u001b[0m\u001b[1;33m(\u001b[0m\u001b[0my\u001b[0m\u001b[1;33m.\u001b[0m\u001b[0mgrad\u001b[0m\u001b[1;33m)\u001b[0m\u001b[1;33m\u001b[0m\u001b[1;33m\u001b[0m\u001b[0m\n",
            "\u001b[1;32mc:\\Users\\gka06\\anaconda3\\lib\\site-packages\\torch\\_tensor.py\u001b[0m in \u001b[0;36mbackward\u001b[1;34m(self, gradient, retain_graph, create_graph, inputs)\u001b[0m\n\u001b[0;32m    485\u001b[0m                 \u001b[0minputs\u001b[0m\u001b[1;33m=\u001b[0m\u001b[0minputs\u001b[0m\u001b[1;33m,\u001b[0m\u001b[1;33m\u001b[0m\u001b[1;33m\u001b[0m\u001b[0m\n\u001b[0;32m    486\u001b[0m             )\n\u001b[1;32m--> 487\u001b[1;33m         torch.autograd.backward(\n\u001b[0m\u001b[0;32m    488\u001b[0m             \u001b[0mself\u001b[0m\u001b[1;33m,\u001b[0m \u001b[0mgradient\u001b[0m\u001b[1;33m,\u001b[0m \u001b[0mretain_graph\u001b[0m\u001b[1;33m,\u001b[0m \u001b[0mcreate_graph\u001b[0m\u001b[1;33m,\u001b[0m \u001b[0minputs\u001b[0m\u001b[1;33m=\u001b[0m\u001b[0minputs\u001b[0m\u001b[1;33m\u001b[0m\u001b[1;33m\u001b[0m\u001b[0m\n\u001b[0;32m    489\u001b[0m         )\n",
            "\u001b[1;32mc:\\Users\\gka06\\anaconda3\\lib\\site-packages\\torch\\autograd\\__init__.py\u001b[0m in \u001b[0;36mbackward\u001b[1;34m(tensors, grad_tensors, retain_graph, create_graph, grad_variables, inputs)\u001b[0m\n\u001b[0;32m    198\u001b[0m     \u001b[1;31m# some Python versions print out the first line of a multi-line function\u001b[0m\u001b[1;33m\u001b[0m\u001b[1;33m\u001b[0m\u001b[0m\n\u001b[0;32m    199\u001b[0m     \u001b[1;31m# calls in the traceback and some print out the last line\u001b[0m\u001b[1;33m\u001b[0m\u001b[1;33m\u001b[0m\u001b[0m\n\u001b[1;32m--> 200\u001b[1;33m     Variable._execution_engine.run_backward(  # Calls into the C++ engine to run the backward pass\n\u001b[0m\u001b[0;32m    201\u001b[0m         \u001b[0mtensors\u001b[0m\u001b[1;33m,\u001b[0m \u001b[0mgrad_tensors_\u001b[0m\u001b[1;33m,\u001b[0m \u001b[0mretain_graph\u001b[0m\u001b[1;33m,\u001b[0m \u001b[0mcreate_graph\u001b[0m\u001b[1;33m,\u001b[0m \u001b[0minputs\u001b[0m\u001b[1;33m,\u001b[0m\u001b[1;33m\u001b[0m\u001b[1;33m\u001b[0m\u001b[0m\n\u001b[0;32m    202\u001b[0m         allow_unreachable=True, accumulate_grad=True)  # Calls into the C++ engine to run the backward pass\n",
            "\u001b[1;31mRuntimeError\u001b[0m: Trying to backward through the graph a second time (or directly access saved tensors after they have already been freed). Saved intermediate values of the graph are freed when you call .backward() or autograd.grad(). Specify retain_graph=True if you need to backward through the graph a second time or if you need to access saved tensors after calling backward."
          ]
        }
      ],
      "source": [
        "print(out)\n",
        "\n",
        "# 이전에 만든 out을 사용해서 역전파 진행\n",
        "\n",
        "y.retain_grad()     # 중간 값에 대한 미분 값을 보고싶다면 해당 값에 대한 retain_grad()를 호출해야 함\n",
        "z.retain_grad()\n",
        "out.backward()      # 여러 번 미분을 진행하기 위해서는 retain_graph=True로 설정해줘야 함(그렇지 않으면 아래처럼 에러 발생)\n",
        "\n",
        "# out.backward(torch.tensor(1.))을 진행하는 것과 동일\n",
        "print(x.grad)\n",
        "print(y.grad)\n",
        "print(z.grad)\n",
        "print(z.is_leaf)\n",
        "\n",
        "out.backward()\n",
        "print(x.grad)\n",
        "print(y.grad)"
      ]
    },
    {
      "cell_type": "code",
      "execution_count": 17,
      "metadata": {},
      "outputs": [
        {
          "name": "stdout",
          "output_type": "stream",
          "text": [
            "tensor([1., 1., 1.], requires_grad=True) tensor([5., 5., 5.], grad_fn=<AddBackward0>) tensor(5., grad_fn=<MeanBackward0>) 1\n"
          ]
        },
        {
          "data": {
            "text/plain": [
              "tensor([0.3333, 0.3333, 0.3333])"
            ]
          },
          "execution_count": 17,
          "metadata": {},
          "output_type": "execute_result"
        }
      ],
      "source": [
        "q=torch.ones(3,requires_grad=True)\n",
        "w=q+4\n",
        "e=w.mean()\n",
        "e.backward()\n",
        "print(q,w,e,1)\n",
        "q.grad"
      ]
    },
    {
      "cell_type": "code",
      "execution_count": 18,
      "metadata": {
        "colab": {
          "base_uri": "https://localhost:8080/"
        },
        "id": "GNPynGc7JRTN",
        "outputId": "074007cf-06a3-4c26-b646-f540772af673"
      },
      "outputs": [
        {
          "name": "stdout",
          "output_type": "stream",
          "text": [
            "tensor(27., grad_fn=<MeanBackward0>)\n",
            "tensor([[4.5000, 4.5000],\n",
            "        [4.5000, 4.5000]])\n",
            "tensor([[4.5000, 4.5000],\n",
            "        [4.5000, 4.5000]])\n",
            "tensor([[0.2500, 0.2500],\n",
            "        [0.2500, 0.2500]]) 1\n",
            "False\n",
            "tensor([[9., 9.],\n",
            "        [9., 9.]])\n",
            "tensor([[9., 9.],\n",
            "        [9., 9.]])\n"
          ]
        }
      ],
      "source": [
        "x = torch.ones(2, 2, requires_grad=True)\n",
        "y = x + 2\n",
        "y.retain_grad()\n",
        "z = y * y * 3\n",
        "z.retain_grad()\n",
        "out = z.mean()\n",
        "\n",
        "print(out)\n",
        "\n",
        "\n",
        "\n",
        "out.backward(retain_graph=True)\n",
        "\n",
        "print(x.grad)\n",
        "print(y.grad)\n",
        "\n",
        "print(z.grad, 1)       # z.retain_grad()를 호출하지 않으면 grad값을 저장하지 않기 때문에 grad 속성을 볼 수 없음\n",
        "print(z.is_leaf)\n",
        "\n",
        "out.backward()\n",
        "print(x.grad)\n",
        "print(y.grad)"
      ]
    },
    {
      "attachments": {},
      "cell_type": "markdown",
      "metadata": {
        "id": "aEfWBA_IhY6V"
      },
      "source": [
        "$$ out = \\frac{1}{4} \\sum_{i} z_i $$\n",
        "$$ z_i = 3(x_i + 2)^2 $$\n",
        "- `z_i`를 미분한 값에 적용하면 4.5를 동일하게 출력할 수 있음\n",
        "\n",
        "\n",
        "\n",
        "\n"
      ]
    },
    {
      "attachments": {},
      "cell_type": "markdown",
      "metadata": {
        "id": "jYSGfXrMhU9S"
      },
      "source": [
        "out(미분결과) = 1/4 * 6 * (x + 2) = 3/2(x+2) "
      ]
    },
    {
      "attachments": {},
      "cell_type": "markdown",
      "metadata": {
        "id": "o0XT_UAPj01j"
      },
      "source": [
        "\n",
        "\n",
        "---\n",
        "\n",
        "\n"
      ]
    },
    {
      "attachments": {},
      "cell_type": "markdown",
      "metadata": {
        "id": "EUbsQZvyjPw6"
      },
      "source": [
        "- 일반적으로 `torch.autograd`는 벡터-야코비안 곱을 계산하는 엔진\n",
        "- `torch.autograd`를 사용하면 전체 야코비안을 직접 계산할 수는 없지만, 벡터-야코비안 곱은 `backward`에 해당 벡터를 인자로 제공하여 얻을 수 있음"
      ]
    },
    {
      "cell_type": "code",
      "execution_count": 19,
      "metadata": {
        "id": "6i9NlL6NhBxo"
      },
      "outputs": [
        {
          "name": "stdout",
          "output_type": "stream",
          "text": [
            "tensor([ -336.3465,  -120.9738, -1765.1407], grad_fn=<MulBackward0>)\n"
          ]
        }
      ],
      "source": [
        "x = torch.randn(3, requires_grad=True)\n",
        "\n",
        "y = x * 2\n",
        "\n",
        "while y.data.norm() < 1000:\n",
        "  y = y * 2\n",
        "\n",
        "print(y)"
      ]
    },
    {
      "cell_type": "code",
      "execution_count": 20,
      "metadata": {
        "id": "GQM3R2CAkEvw"
      },
      "outputs": [
        {
          "name": "stdout",
          "output_type": "stream",
          "text": [
            "tensor([1.0240e+02, 1.0240e+03, 1.0240e-01])\n"
          ]
        }
      ],
      "source": [
        "# scalar값이 아닌 y의 벡터-야코비안 곱을 구하는 과정\n",
        "v = torch.tensor([0.1, 1.0, 0.0001], dtype=torch.float)\n",
        "y.backward(v)\n",
        "\n",
        "print(x.grad)"
      ]
    },
    {
      "attachments": {},
      "cell_type": "markdown",
      "metadata": {
        "id": "HOpIFRDiknBR"
      },
      "source": [
        "- `with torch.no_grad()`로 코드 블록을 감싸서 `autograd`가 `.requires_grad=True`인 Tensor의 연산 기록을 추적하는 것을 멈출 수도 있음"
      ]
    },
    {
      "cell_type": "code",
      "execution_count": 21,
      "metadata": {
        "id": "pVcZI7_ykkBy"
      },
      "outputs": [
        {
          "name": "stdout",
          "output_type": "stream",
          "text": [
            "True\n",
            "True\n",
            "False\n"
          ]
        }
      ],
      "source": [
        "print(x.requires_grad)\n",
        "print((x ** 2).requires_grad)\n",
        "\n",
        "with torch.no_grad():\n",
        "  print((x ** 2).requires_grad)"
      ]
    },
    {
      "attachments": {},
      "cell_type": "markdown",
      "metadata": {
        "id": "64f5Z32tk5Kd"
      },
      "source": [
        "- 또는 `.detach()`를 호출하여 내용물은 같지만 `requires_grad`가 다른 새로운 텐서를 가져올 수 있음"
      ]
    },
    {
      "cell_type": "code",
      "execution_count": 22,
      "metadata": {
        "id": "kpct8uBPk3st"
      },
      "outputs": [
        {
          "name": "stdout",
          "output_type": "stream",
          "text": [
            "True\n",
            "False\n",
            "tensor(True)\n"
          ]
        }
      ],
      "source": [
        "print(x.requires_grad)\n",
        "y = x.detach()\n",
        "print(y.requires_grad)\n",
        "print(x.eq(y).all())"
      ]
    },
    {
      "attachments": {},
      "cell_type": "markdown",
      "metadata": {
        "id": "kw0wgV63lLfa"
      },
      "source": [
        "# ANN(Artificial Neural Networks)\n",
        "\n",
        "- 신경망은 `torch.nn` 패키지를 사용하여 생성할 수 있음\n",
        "- `nn`은 모델을 정의하고 미분하기 위해서 위에서 살펴본 `autograd`를 사용\n",
        "- `nn.Module`은 계층(layer)과 `output`을 반환하는 `forward(input)` 메소드를 포함"
      ]
    },
    {
      "attachments": {},
      "cell_type": "markdown",
      "metadata": {
        "id": "K1CPO19LwmAI"
      },
      "source": [
        "\n",
        "\n",
        "---\n",
        "\n"
      ]
    },
    {
      "attachments": {},
      "cell_type": "markdown",
      "metadata": {
        "id": "UIVy4DXNmqEN"
      },
      "source": [
        "- 간단한 순전파 네트워크(feed-forward-network)\n",
        "- 입력을 받아 여러 계층에 차례로 전달한 후, 최종 출력을 제공\n",
        "- 신경망의 일반적인 학습 과정\n",
        "\n",
        "\n",
        "> - 학습 가능한 매개변수(가중치)를 갖는 신경망을 정의\n",
        "> - 데이터 셋 입력을 반복\n",
        "> - 입력을 신경망에서 전파(process)\n",
        "> - 손실(loss; 입력 값과 예측 값과의 차이)를 계산\n",
        "> - 변화도(gradient)를 신경망의 매개변수들에 역으로 전파 - 역전파 과정\n",
        "> - 신경망의 가중치를 갱신\n",
        "> > - `새로운 가중치(weight) = 가중치(weight) - 학습률(learning rate) * 변화도(gradient)`\n",
        "\n"
      ]
    },
    {
      "cell_type": "code",
      "execution_count": 23,
      "metadata": {
        "id": "lSK4LCt5lGiJ"
      },
      "outputs": [],
      "source": [
        "import pandas as pd\n",
        "\n",
        "from sklearn.datasets import load_iris\n",
        "\n",
        "import torch\n",
        "import torch.nn as nn\n",
        "from torch.utils.data import DataLoader, TensorDataset"
      ]
    },
    {
      "cell_type": "code",
      "execution_count": 24,
      "metadata": {
        "id": "Q-G_wst4GaFd"
      },
      "outputs": [],
      "source": [
        "class Net(nn.Module):\n",
        "\n",
        "    def __init__(self):\n",
        "        super(Net, self).__init__()\n",
        "\n",
        "        self.layer0 = nn.Linear(4, 128)\n",
        "        self.layer1 = nn.Linear(128, 64)\n",
        "        self.layer2 = nn.Linear(64, 32)\n",
        "        self.layer3 = nn.Linear(32, 16)\n",
        "        self.layer4 = nn.Linear(16, 3)\n",
        "\n",
        "        self.bn0 = nn.BatchNorm1d(128)\n",
        "        self.bn1 = nn.BatchNorm1d(64)\n",
        "        self.bn2 = nn.BatchNorm1d(32)\n",
        "\n",
        "        self.act = nn.ReLU()\n",
        "\n",
        "    def forward(self, x):\n",
        "      x = self.act(self.bn0(self.layer0(x)))\n",
        "      x = self.act(self.bn1(self.layer1(x)))\n",
        "      x = self.act(self.bn2(self.layer2(x)))\n",
        "      x = self.act(self.layer3(x))\n",
        "      x = self.layer4(x)\n",
        "\n",
        "      return x"
      ]
    },
    {
      "attachments": {},
      "cell_type": "markdown",
      "metadata": {
        "id": "1iriyhtY-wZy"
      },
      "source": [
        "## 손실 함수(Loss Function)\n",
        "\n",
        "- 손실 함수는 (output, target)을 한 쌍으로 입력 받아, 출력이 정답으로부터 얼마나 떨어져있는지 추정하는 값을 계산\n"
      ]
    },
    {
      "attachments": {},
      "cell_type": "markdown",
      "metadata": {
        "id": "OZ8bodFU5R0q"
      },
      "source": [
        "- `forward`함수만 정의하고 나면 `backward`함수는 `autograd`를 사용하여 자동으로 정의됨\n",
        "- 모델의 학습 가능한 매개 변수는 `net.parameters()`에 의해 변환됨"
      ]
    },
    {
      "cell_type": "code",
      "execution_count": 25,
      "metadata": {
        "id": "RFQQ1Hd9-wDv"
      },
      "outputs": [
        {
          "name": "stdout",
          "output_type": "stream",
          "text": [
            "loss:  1.1767877340316772\n",
            "layer0.bias.grad before backward\n",
            "None\n",
            "True\n",
            "layer0.bias.grad after backward\n",
            "tensor([-0.2086,  0.1049,  0.1036])\n"
          ]
        },
        {
          "data": {
            "text/plain": [
              "'\\n이 부분에서 .retain_grad() 를 사용하지 않아도 되는 이유는 weight와 bias의 파라미터가 leaf 노드이기 때문이라고 합니다.\\n설명이 포함된 링크들을 아래에 첨부해두니 읽어보시면 좋을 것 같습니다 :)\\n\\n어떤 경우가 leaf 노드 인지 - https://discuss.pytorch.org/t/leaf-variable-was-used-in-an-inplace-operation/308/20\\n왜 leaf 노드인 경우에는 retain_grad()를 하지 않아도 grad 값이 나오는지 - https://discuss.pytorch.org/t/what-is-the-purpose-of-is-leaf/87000/7\\n'"
            ]
          },
          "execution_count": 25,
          "metadata": {},
          "output_type": "execute_result"
        }
      ],
      "source": [
        "# 랜덤 값 생성\n",
        "criterion = nn.CrossEntropyLoss()\n",
        "\n",
        "ex_X, ex_y = torch.randn([4, 4]), torch.tensor([1, 0, 2, 0])\n",
        "\n",
        "net = Net()\n",
        "output = net(ex_X)\n",
        "loss = criterion(output, ex_y)\n",
        "print('loss: ', loss.item())\n",
        "  \n",
        "net.zero_grad()\n",
        "\n",
        "print('layer0.bias.grad before backward')\n",
        "print(net.layer4.bias.grad)\n",
        "\n",
        "print(net.layer4.bias.is_leaf)\n",
        "\n",
        "loss.backward()\n",
        "\n",
        "print('layer0.bias.grad after backward')\n",
        "print(net.layer4.bias.grad)\n",
        "\n",
        "\"\"\"\n",
        "이 부분에서 .retain_grad() 를 사용하지 않아도 되는 이유는 weight와 bias의 파라미터가 leaf 노드이기 때문이라고 합니다.\n",
        "설명이 포함된 링크들을 아래에 첨부해두니 읽어보시면 좋을 것 같습니다 :)\n",
        "\n",
        "어떤 경우가 leaf 노드 인지 - https://discuss.pytorch.org/t/leaf-variable-was-used-in-an-inplace-operation/308/20\n",
        "왜 leaf 노드인 경우에는 retain_grad()를 하지 않아도 grad 값이 나오는지 - https://discuss.pytorch.org/t/what-is-the-purpose-of-is-leaf/87000/7\n",
        "\"\"\""
      ]
    },
    {
      "cell_type": "code",
      "execution_count": 26,
      "metadata": {
        "id": "tJ8Re3qL-ICi"
      },
      "outputs": [
        {
          "name": "stdout",
          "output_type": "stream",
          "text": [
            "16\n",
            "torch.Size([128, 4])\n"
          ]
        }
      ],
      "source": [
        "params = list(net.parameters())\n",
        "print(len(params))\n",
        "print(params[0].size())  # layer0의 weight"
      ]
    },
    {
      "attachments": {},
      "cell_type": "markdown",
      "metadata": {
        "id": "stc5MlORHVss"
      },
      "source": [
        "## 가중치 갱신\n",
        "- 가장 단순한 갱신 규칙은 확률적 경사하강법(SGD; Stochastic Gradient Descent)\n",
        "- `새로운 가중치(weight) = 가중치(weight) - 학습률(learning rate) * 변화도(gradient)`"
      ]
    },
    {
      "cell_type": "code",
      "execution_count": 27,
      "metadata": {
        "id": "do674u-5HYdI"
      },
      "outputs": [],
      "source": [
        "# torch.optim 패키지에 다양한 갱신 규칙이 규현되어 있음\n",
        "\n",
        "import torch.optim as optim\n",
        "\n",
        "optimizer = optim.SGD(net.parameters(), lr=0.001)\n",
        "\n",
        "optimizer.zero_grad()\n",
        "output = net(ex_X)\n",
        "loss = criterion(output, ex_y)\n",
        "loss.backward()\n",
        "optimizer.step()  # 업데이트 진행"
      ]
    },
    {
      "attachments": {},
      "cell_type": "markdown",
      "metadata": {
        "id": "bS5ZVLPDnVYN"
      },
      "source": [
        "## MLP 모델"
      ]
    },
    {
      "cell_type": "code",
      "execution_count": 28,
      "metadata": {
        "id": "xyLsrD2AoMsz"
      },
      "outputs": [
        {
          "name": "stdout",
          "output_type": "stream",
          "text": [
            ".. _iris_dataset:\n",
            "\n",
            "Iris plants dataset\n",
            "--------------------\n",
            "\n",
            "**Data Set Characteristics:**\n",
            "\n",
            "    :Number of Instances: 150 (50 in each of three classes)\n",
            "    :Number of Attributes: 4 numeric, predictive attributes and the class\n",
            "    :Attribute Information:\n",
            "        - sepal length in cm\n",
            "        - sepal width in cm\n",
            "        - petal length in cm\n",
            "        - petal width in cm\n",
            "        - class:\n",
            "                - Iris-Setosa\n",
            "                - Iris-Versicolour\n",
            "                - Iris-Virginica\n",
            "                \n",
            "    :Summary Statistics:\n",
            "\n",
            "    ============== ==== ==== ======= ===== ====================\n",
            "                    Min  Max   Mean    SD   Class Correlation\n",
            "    ============== ==== ==== ======= ===== ====================\n",
            "    sepal length:   4.3  7.9   5.84   0.83    0.7826\n",
            "    sepal width:    2.0  4.4   3.05   0.43   -0.4194\n",
            "    petal length:   1.0  6.9   3.76   1.76    0.9490  (high!)\n",
            "    petal width:    0.1  2.5   1.20   0.76    0.9565  (high!)\n",
            "    ============== ==== ==== ======= ===== ====================\n",
            "\n",
            "    :Missing Attribute Values: None\n",
            "    :Class Distribution: 33.3% for each of 3 classes.\n",
            "    :Creator: R.A. Fisher\n",
            "    :Donor: Michael Marshall (MARSHALL%PLU@io.arc.nasa.gov)\n",
            "    :Date: July, 1988\n",
            "\n",
            "The famous Iris database, first used by Sir R.A. Fisher. The dataset is taken\n",
            "from Fisher's paper. Note that it's the same as in R, but not as in the UCI\n",
            "Machine Learning Repository, which has two wrong data points.\n",
            "\n",
            "This is perhaps the best known database to be found in the\n",
            "pattern recognition literature.  Fisher's paper is a classic in the field and\n",
            "is referenced frequently to this day.  (See Duda & Hart, for example.)  The\n",
            "data set contains 3 classes of 50 instances each, where each class refers to a\n",
            "type of iris plant.  One class is linearly separable from the other 2; the\n",
            "latter are NOT linearly separable from each other.\n",
            "\n",
            ".. topic:: References\n",
            "\n",
            "   - Fisher, R.A. \"The use of multiple measurements in taxonomic problems\"\n",
            "     Annual Eugenics, 7, Part II, 179-188 (1936); also in \"Contributions to\n",
            "     Mathematical Statistics\" (John Wiley, NY, 1950).\n",
            "   - Duda, R.O., & Hart, P.E. (1973) Pattern Classification and Scene Analysis.\n",
            "     (Q327.D83) John Wiley & Sons.  ISBN 0-471-22361-1.  See page 218.\n",
            "   - Dasarathy, B.V. (1980) \"Nosing Around the Neighborhood: A New System\n",
            "     Structure and Classification Rule for Recognition in Partially Exposed\n",
            "     Environments\".  IEEE Transactions on Pattern Analysis and Machine\n",
            "     Intelligence, Vol. PAMI-2, No. 1, 67-71.\n",
            "   - Gates, G.W. (1972) \"The Reduced Nearest Neighbor Rule\".  IEEE Transactions\n",
            "     on Information Theory, May 1972, 431-433.\n",
            "   - See also: 1988 MLC Proceedings, 54-64.  Cheeseman et al\"s AUTOCLASS II\n",
            "     conceptual clustering system finds 3 classes in the data.\n",
            "   - Many, many more ...\n"
          ]
        }
      ],
      "source": [
        "dataset = load_iris()\n",
        "\n",
        "data = dataset.data\n",
        "label = dataset.target\n",
        "\n",
        "print(dataset.DESCR)"
      ]
    },
    {
      "cell_type": "code",
      "execution_count": 29,
      "metadata": {
        "id": "G8loKlfN0JOc"
      },
      "outputs": [
        {
          "name": "stdout",
          "output_type": "stream",
          "text": [
            "shape of data:  (150, 4)\n",
            "shape of label:  (150,)\n"
          ]
        }
      ],
      "source": [
        "print('shape of data: ', data.shape)\n",
        "print('shape of label: ',label.shape)"
      ]
    },
    {
      "cell_type": "code",
      "execution_count": 30,
      "metadata": {
        "id": "y3xw0IFk0XjL"
      },
      "outputs": [
        {
          "name": "stdout",
          "output_type": "stream",
          "text": [
            "112\n",
            "38\n"
          ]
        }
      ],
      "source": [
        "# 훈련과 테스트 데이터로 나누기\n",
        "from sklearn.model_selection import train_test_split\n",
        "\n",
        "X_train, X_test, y_train, y_test = train_test_split(data, label, test_size=0.25)\n",
        "print(len(X_train))\n",
        "print(len(X_test))"
      ]
    },
    {
      "cell_type": "code",
      "execution_count": 31,
      "metadata": {
        "id": "qiHojNiZ0XgW"
      },
      "outputs": [],
      "source": [
        "# DataLoader 생성\n",
        "X_train = torch.from_numpy(X_train).float()\n",
        "y_train = torch.from_numpy(y_train).long()\n",
        "\n",
        "X_test = torch.from_numpy(X_test).float()\n",
        "y_test = torch.from_numpy(y_test).long()\n",
        "\n",
        "train_set = TensorDataset(X_train, y_train)\n",
        "\n",
        "train_loader = DataLoader(train_set, batch_size=4, shuffle=True)"
      ]
    },
    {
      "cell_type": "code",
      "execution_count": 32,
      "metadata": {
        "id": "RKMCSkmw0XdW"
      },
      "outputs": [],
      "source": [
        "class Net(nn.Module):\n",
        "\n",
        "    def __init__(self):\n",
        "        super(Net, self).__init__()\n",
        "\n",
        "        self.layer0 = nn.Linear(4, 128)\n",
        "        self.layer1 = nn.Linear(128, 64)\n",
        "        self.layer2 = nn.Linear(64, 32)\n",
        "        self.layer3 = nn.Linear(32, 16)\n",
        "        self.layer4 = nn.Linear(16, 3)\n",
        "\n",
        "        self.bn0 = nn.BatchNorm1d(128)\n",
        "        self.bn1 = nn.BatchNorm1d(64)\n",
        "        self.bn2 = nn.BatchNorm1d(32)\n",
        "\n",
        "        self.act = nn.ReLU()\n",
        "\n",
        "    def forward(self, x):\n",
        "      x = self.act(self.bn0(self.layer0(x)))\n",
        "      x = self.act(self.bn1(self.layer1(x)))\n",
        "      x = self.act(self.bn2(self.layer2(x)))\n",
        "      x = self.act(self.layer3(x))\n",
        "      x = self.layer4(x)\n",
        "\n",
        "      return x\n",
        "      # return nn.Softmax(x)"
      ]
    },
    {
      "cell_type": "code",
      "execution_count": 33,
      "metadata": {
        "id": "_JwxsEnD0XWK"
      },
      "outputs": [
        {
          "name": "stdout",
          "output_type": "stream",
          "text": [
            "Net(\n",
            "  (layer0): Linear(in_features=4, out_features=128, bias=True)\n",
            "  (layer1): Linear(in_features=128, out_features=64, bias=True)\n",
            "  (layer2): Linear(in_features=64, out_features=32, bias=True)\n",
            "  (layer3): Linear(in_features=32, out_features=16, bias=True)\n",
            "  (layer4): Linear(in_features=16, out_features=3, bias=True)\n",
            "  (bn0): BatchNorm1d(128, eps=1e-05, momentum=0.1, affine=True, track_running_stats=True)\n",
            "  (bn1): BatchNorm1d(64, eps=1e-05, momentum=0.1, affine=True, track_running_stats=True)\n",
            "  (bn2): BatchNorm1d(32, eps=1e-05, momentum=0.1, affine=True, track_running_stats=True)\n",
            "  (act): ReLU()\n",
            ")\n"
          ]
        }
      ],
      "source": [
        "net = Net()\n",
        "print(net)"
      ]
    },
    {
      "cell_type": "code",
      "execution_count": 34,
      "metadata": {
        "id": "tTzItXLv24HR"
      },
      "outputs": [],
      "source": [
        "optimizer = torch.optim.SGD(net.parameters(), lr=0.001)\n",
        "criterion = nn.CrossEntropyLoss()\n",
        "epochs = 200"
      ]
    },
    {
      "cell_type": "code",
      "execution_count": 35,
      "metadata": {
        "id": "s7TSeMPP3TwB"
      },
      "outputs": [
        {
          "name": "stdout",
          "output_type": "stream",
          "text": [
            "epoch :001, \tloss :1.1603, \taccuracy :0.1964\n",
            "epoch :002, \tloss :1.145, \taccuracy :0.3036\n",
            "epoch :003, \tloss :1.115, \taccuracy :0.3482\n",
            "epoch :004, \tloss :1.0905, \taccuracy :0.3571\n",
            "epoch :005, \tloss :1.0654, \taccuracy :0.4554\n",
            "epoch :006, \tloss :1.0147, \taccuracy :0.5268\n",
            "epoch :007, \tloss :1.0404, \taccuracy :0.4732\n",
            "epoch :008, \tloss :1.0109, \taccuracy :0.5268\n",
            "epoch :009, \tloss :1.0203, \taccuracy :0.5357\n"
          ]
        },
        {
          "name": "stdout",
          "output_type": "stream",
          "text": [
            "epoch :010, \tloss :0.9794, \taccuracy :0.5536\n",
            "epoch :011, \tloss :0.9891, \taccuracy :0.5357\n",
            "epoch :012, \tloss :0.9488, \taccuracy :0.5714\n",
            "epoch :013, \tloss :0.9813, \taccuracy :0.5714\n",
            "epoch :014, \tloss :0.9683, \taccuracy :0.5625\n",
            "epoch :015, \tloss :0.963, \taccuracy :0.5357\n",
            "epoch :016, \tloss :0.9391, \taccuracy :0.5714\n",
            "epoch :017, \tloss :0.9215, \taccuracy :0.5893\n",
            "epoch :018, \tloss :0.9249, \taccuracy :0.6071\n",
            "epoch :019, \tloss :0.8891, \taccuracy :0.6161\n",
            "epoch :020, \tloss :0.9266, \taccuracy :0.6161\n",
            "epoch :021, \tloss :0.9175, \taccuracy :0.6607\n",
            "epoch :022, \tloss :0.877, \taccuracy :0.6696\n",
            "epoch :023, \tloss :0.8619, \taccuracy :0.6875\n",
            "epoch :024, \tloss :0.8686, \taccuracy :0.6875\n",
            "epoch :025, \tloss :0.8603, \taccuracy :0.6786\n",
            "epoch :026, \tloss :0.8452, \taccuracy :0.7232\n",
            "epoch :027, \tloss :0.8171, \taccuracy :0.7321\n",
            "epoch :028, \tloss :0.8404, \taccuracy :0.7054\n",
            "epoch :029, \tloss :0.8596, \taccuracy :0.7054\n",
            "epoch :030, \tloss :0.8189, \taccuracy :0.6964\n",
            "epoch :031, \tloss :0.8263, \taccuracy :0.75\n",
            "epoch :032, \tloss :0.885, \taccuracy :0.6964\n",
            "epoch :033, \tloss :0.8164, \taccuracy :0.7321\n",
            "epoch :034, \tloss :0.8355, \taccuracy :0.7054\n",
            "epoch :035, \tloss :0.8392, \taccuracy :0.6875\n",
            "epoch :036, \tloss :0.8183, \taccuracy :0.6964\n",
            "epoch :037, \tloss :0.7908, \taccuracy :0.75\n",
            "epoch :038, \tloss :0.7937, \taccuracy :0.7143\n",
            "epoch :039, \tloss :0.7896, \taccuracy :0.7321\n",
            "epoch :040, \tloss :0.7964, \taccuracy :0.7411\n",
            "epoch :041, \tloss :0.7674, \taccuracy :0.7321\n",
            "epoch :042, \tloss :0.7516, \taccuracy :0.8036\n",
            "epoch :043, \tloss :0.7733, \taccuracy :0.7321\n",
            "epoch :044, \tloss :0.7885, \taccuracy :0.7232\n",
            "epoch :045, \tloss :0.7637, \taccuracy :0.6875\n",
            "epoch :046, \tloss :0.7775, \taccuracy :0.7232\n",
            "epoch :047, \tloss :0.7918, \taccuracy :0.7054\n",
            "epoch :048, \tloss :0.737, \taccuracy :0.7679\n",
            "epoch :049, \tloss :0.8252, \taccuracy :0.6607\n",
            "epoch :050, \tloss :0.7565, \taccuracy :0.8125\n",
            "epoch :051, \tloss :0.7405, \taccuracy :0.7589\n",
            "epoch :052, \tloss :0.7682, \taccuracy :0.6875\n",
            "epoch :053, \tloss :0.7281, \taccuracy :0.8036\n",
            "epoch :054, \tloss :0.7721, \taccuracy :0.6875\n",
            "epoch :055, \tloss :0.7447, \taccuracy :0.7054\n",
            "epoch :056, \tloss :0.7054, \taccuracy :0.7679\n",
            "epoch :057, \tloss :0.6851, \taccuracy :0.7946\n",
            "epoch :058, \tloss :0.7112, \taccuracy :0.7232\n",
            "epoch :059, \tloss :0.7112, \taccuracy :0.7679\n",
            "epoch :060, \tloss :0.6787, \taccuracy :0.8036\n",
            "epoch :061, \tloss :0.703, \taccuracy :0.7679\n",
            "epoch :062, \tloss :0.7191, \taccuracy :0.6964\n",
            "epoch :063, \tloss :0.6978, \taccuracy :0.7589\n",
            "epoch :064, \tloss :0.679, \taccuracy :0.7768\n",
            "epoch :065, \tloss :0.6504, \taccuracy :0.8036\n",
            "epoch :066, \tloss :0.7296, \taccuracy :0.7411\n",
            "epoch :067, \tloss :0.7103, \taccuracy :0.7321\n",
            "epoch :068, \tloss :0.6193, \taccuracy :0.8393\n",
            "epoch :069, \tloss :0.6572, \taccuracy :0.7232\n",
            "epoch :070, \tloss :0.6637, \taccuracy :0.7679\n",
            "epoch :071, \tloss :0.6308, \taccuracy :0.8214\n",
            "epoch :072, \tloss :0.6109, \taccuracy :0.8214\n",
            "epoch :073, \tloss :0.6398, \taccuracy :0.7857\n",
            "epoch :074, \tloss :0.664, \taccuracy :0.7946\n",
            "epoch :075, \tloss :0.7317, \taccuracy :0.6607\n",
            "epoch :076, \tloss :0.6259, \taccuracy :0.8036\n",
            "epoch :077, \tloss :0.6074, \taccuracy :0.7857\n",
            "epoch :078, \tloss :0.679, \taccuracy :0.7411\n",
            "epoch :079, \tloss :0.6899, \taccuracy :0.7946\n",
            "epoch :080, \tloss :0.5993, \taccuracy :0.7857\n",
            "epoch :081, \tloss :0.6521, \taccuracy :0.7768\n",
            "epoch :082, \tloss :0.6008, \taccuracy :0.7946\n",
            "epoch :083, \tloss :0.6233, \taccuracy :0.8036\n",
            "epoch :084, \tloss :0.5618, \taccuracy :0.875\n",
            "epoch :085, \tloss :0.6296, \taccuracy :0.7679\n",
            "epoch :086, \tloss :0.5899, \taccuracy :0.7946\n",
            "epoch :087, \tloss :0.5837, \taccuracy :0.8482\n",
            "epoch :088, \tloss :0.5798, \taccuracy :0.8214\n",
            "epoch :089, \tloss :0.5737, \taccuracy :0.7946\n",
            "epoch :090, \tloss :0.5388, \taccuracy :0.8125\n",
            "epoch :091, \tloss :0.529, \taccuracy :0.8839\n",
            "epoch :092, \tloss :0.5353, \taccuracy :0.875\n",
            "epoch :093, \tloss :0.6316, \taccuracy :0.7679\n",
            "epoch :094, \tloss :0.506, \taccuracy :0.8571\n",
            "epoch :095, \tloss :0.6075, \taccuracy :0.7589\n",
            "epoch :096, \tloss :0.5681, \taccuracy :0.8125\n",
            "epoch :097, \tloss :0.5971, \taccuracy :0.7857\n",
            "epoch :098, \tloss :0.5171, \taccuracy :0.8571\n",
            "epoch :099, \tloss :0.5542, \taccuracy :0.7768\n",
            "epoch :100, \tloss :0.6136, \taccuracy :0.7768\n",
            "epoch :101, \tloss :0.5901, \taccuracy :0.8125\n",
            "epoch :102, \tloss :0.5484, \taccuracy :0.8125\n",
            "epoch :103, \tloss :0.5498, \taccuracy :0.7946\n",
            "epoch :104, \tloss :0.5691, \taccuracy :0.75\n",
            "epoch :105, \tloss :0.5348, \taccuracy :0.8393\n",
            "epoch :106, \tloss :0.5092, \taccuracy :0.875\n",
            "epoch :107, \tloss :0.5895, \taccuracy :0.7143\n",
            "epoch :108, \tloss :0.5038, \taccuracy :0.8036\n",
            "epoch :109, \tloss :0.5815, \taccuracy :0.8125\n",
            "epoch :110, \tloss :0.5099, \taccuracy :0.7857\n",
            "epoch :111, \tloss :0.5803, \taccuracy :0.7411\n",
            "epoch :112, \tloss :0.5078, \taccuracy :0.8482\n",
            "epoch :113, \tloss :0.4469, \taccuracy :0.8839\n",
            "epoch :114, \tloss :0.533, \taccuracy :0.8036\n",
            "epoch :115, \tloss :0.5237, \taccuracy :0.7857\n",
            "epoch :116, \tloss :0.4348, \taccuracy :0.8571\n",
            "epoch :117, \tloss :0.4633, \taccuracy :0.8304\n",
            "epoch :118, \tloss :0.5147, \taccuracy :0.7768\n",
            "epoch :119, \tloss :0.5383, \taccuracy :0.7946\n",
            "epoch :120, \tloss :0.5078, \taccuracy :0.7946\n",
            "epoch :121, \tloss :0.5789, \taccuracy :0.7768\n",
            "epoch :122, \tloss :0.5211, \taccuracy :0.8036\n",
            "epoch :123, \tloss :0.5226, \taccuracy :0.7768\n",
            "epoch :124, \tloss :0.4624, \taccuracy :0.8036\n",
            "epoch :125, \tloss :0.5059, \taccuracy :0.7768\n",
            "epoch :126, \tloss :0.3956, \taccuracy :0.8929\n",
            "epoch :127, \tloss :0.4622, \taccuracy :0.8571\n",
            "epoch :128, \tloss :0.474, \taccuracy :0.8393\n",
            "epoch :129, \tloss :0.4997, \taccuracy :0.7768\n",
            "epoch :130, \tloss :0.4256, \taccuracy :0.8661\n",
            "epoch :131, \tloss :0.4622, \taccuracy :0.8661\n",
            "epoch :132, \tloss :0.4798, \taccuracy :0.8304\n",
            "epoch :133, \tloss :0.5119, \taccuracy :0.75\n",
            "epoch :134, \tloss :0.4403, \taccuracy :0.8661\n",
            "epoch :135, \tloss :0.468, \taccuracy :0.7946\n",
            "epoch :136, \tloss :0.4802, \taccuracy :0.8125\n",
            "epoch :137, \tloss :0.4863, \taccuracy :0.8214\n",
            "epoch :138, \tloss :0.4713, \taccuracy :0.8393\n",
            "epoch :139, \tloss :0.4405, \taccuracy :0.8661\n",
            "epoch :140, \tloss :0.4826, \taccuracy :0.7857\n",
            "epoch :141, \tloss :0.4791, \taccuracy :0.7411\n",
            "epoch :142, \tloss :0.4551, \taccuracy :0.8036\n",
            "epoch :143, \tloss :0.4436, \taccuracy :0.8304\n",
            "epoch :144, \tloss :0.5432, \taccuracy :0.8214\n",
            "epoch :145, \tloss :0.4446, \taccuracy :0.8482\n",
            "epoch :146, \tloss :0.484, \taccuracy :0.8214\n",
            "epoch :147, \tloss :0.4475, \taccuracy :0.8304\n",
            "epoch :148, \tloss :0.5008, \taccuracy :0.7857\n",
            "epoch :149, \tloss :0.4553, \taccuracy :0.8571\n",
            "epoch :150, \tloss :0.5167, \taccuracy :0.7768\n",
            "epoch :151, \tloss :0.4423, \taccuracy :0.8125\n",
            "epoch :152, \tloss :0.485, \taccuracy :0.8393\n",
            "epoch :153, \tloss :0.4229, \taccuracy :0.8482\n",
            "epoch :154, \tloss :0.4137, \taccuracy :0.8571\n",
            "epoch :155, \tloss :0.3879, \taccuracy :0.8482\n",
            "epoch :156, \tloss :0.3529, \taccuracy :0.875\n",
            "epoch :157, \tloss :0.5093, \taccuracy :0.8125\n",
            "epoch :158, \tloss :0.5284, \taccuracy :0.7946\n",
            "epoch :159, \tloss :0.432, \taccuracy :0.8393\n",
            "epoch :160, \tloss :0.3943, \taccuracy :0.8482\n",
            "epoch :161, \tloss :0.5227, \taccuracy :0.7946\n",
            "epoch :162, \tloss :0.3756, \taccuracy :0.8661\n",
            "epoch :163, \tloss :0.4313, \taccuracy :0.8214\n",
            "epoch :164, \tloss :0.431, \taccuracy :0.8214\n",
            "epoch :165, \tloss :0.4374, \taccuracy :0.8214\n",
            "epoch :166, \tloss :0.3509, \taccuracy :0.9018\n",
            "epoch :167, \tloss :0.3923, \taccuracy :0.8482\n",
            "epoch :168, \tloss :0.3945, \taccuracy :0.8661\n",
            "epoch :169, \tloss :0.4335, \taccuracy :0.8482\n",
            "epoch :170, \tloss :0.4427, \taccuracy :0.8571\n",
            "epoch :171, \tloss :0.4173, \taccuracy :0.8661\n",
            "epoch :172, \tloss :0.4539, \taccuracy :0.7857\n",
            "epoch :173, \tloss :0.4202, \taccuracy :0.8482\n",
            "epoch :174, \tloss :0.5016, \taccuracy :0.7946\n",
            "epoch :175, \tloss :0.4211, \taccuracy :0.8482\n",
            "epoch :176, \tloss :0.4297, \taccuracy :0.8571\n",
            "epoch :177, \tloss :0.417, \taccuracy :0.8125\n",
            "epoch :178, \tloss :0.4388, \taccuracy :0.8571\n",
            "epoch :179, \tloss :0.3865, \taccuracy :0.8304\n",
            "epoch :180, \tloss :0.4487, \taccuracy :0.7857\n",
            "epoch :181, \tloss :0.3885, \taccuracy :0.8482\n",
            "epoch :182, \tloss :0.3993, \taccuracy :0.8393\n",
            "epoch :183, \tloss :0.3917, \taccuracy :0.8661\n",
            "epoch :184, \tloss :0.37, \taccuracy :0.8661\n",
            "epoch :185, \tloss :0.4118, \taccuracy :0.8482\n",
            "epoch :186, \tloss :0.3734, \taccuracy :0.8839\n",
            "epoch :187, \tloss :0.3097, \taccuracy :0.8929\n",
            "epoch :188, \tloss :0.5254, \taccuracy :0.7679\n",
            "epoch :189, \tloss :0.5855, \taccuracy :0.7589\n",
            "epoch :190, \tloss :0.4476, \taccuracy :0.8214\n",
            "epoch :191, \tloss :0.3381, \taccuracy :0.8839\n",
            "epoch :192, \tloss :0.4514, \taccuracy :0.8393\n",
            "epoch :193, \tloss :0.3037, \taccuracy :0.8571\n",
            "epoch :194, \tloss :0.4243, \taccuracy :0.8304\n",
            "epoch :195, \tloss :0.4157, \taccuracy :0.8482\n",
            "epoch :196, \tloss :0.4722, \taccuracy :0.8036\n",
            "epoch :197, \tloss :0.3555, \taccuracy :0.8661\n",
            "epoch :198, \tloss :0.3693, \taccuracy :0.8929\n",
            "epoch :199, \tloss :0.426, \taccuracy :0.8393\n",
            "epoch :200, \tloss :0.4074, \taccuracy :0.8125\n"
          ]
        }
      ],
      "source": [
        "losses = list()\n",
        "accuracies = list()\n",
        "\n",
        "for epoch in range(epochs):\n",
        "  epoch_loss = 0  \n",
        "  epoch_accuracy = 0\n",
        "  for X, y in train_loader:\n",
        "  \n",
        "    optimizer.zero_grad()\n",
        "    \n",
        "    output = net(X)\n",
        "\n",
        "    loss = criterion(output, y)\n",
        "    loss.backward()\n",
        "    \n",
        "    optimizer.step()\n",
        "    # output = [0.11, 0.5, 0.8]  --> 예측 클래스 값\n",
        "    _, predicted = torch.max(output, dim=1)\n",
        "    accuracy = (predicted == y).sum().item()\n",
        "    epoch_loss += loss.item()\n",
        "    epoch_accuracy += accuracy\n",
        "  \n",
        "\n",
        "  epoch_loss /= len(train_loader)\n",
        "  epoch_accuracy /= len(X_train)\n",
        "  print(\"epoch :{}, \\tloss :{}, \\taccuracy :{}\".format(str(epoch+1).zfill(3),round(epoch_loss,4), round(epoch_accuracy,4)))\n",
        "  \n",
        "  losses.append(epoch_loss)\n",
        "  accuracies.append(epoch_accuracy)"
      ]
    },
    {
      "cell_type": "code",
      "execution_count": 36,
      "metadata": {
        "id": "jyD5qnrK36oE"
      },
      "outputs": [
        {
          "data": {
            "image/png": "[encoded data removed]",
            "text/plain": [
              "<Figure size 1440x360 with 2 Axes>"
            ]
          },
          "metadata": {
            "needs_background": "light"
          },
          "output_type": "display_data"
        }
      ],
      "source": [
        "# Plot result\n",
        "\n",
        "import matplotlib.pyplot as plt\n",
        "\n",
        "plt.figure(figsize=(20,5))\n",
        "plt.subplots_adjust(wspace=0.2)\n",
        "\n",
        "plt.subplot(1,2,1)\n",
        "plt.title(\"$loss$\",fontsize = 18)\n",
        "plt.plot(losses)\n",
        "plt.grid()\n",
        "plt.xlabel(\"$epochs$\", fontsize = 16)\n",
        "plt.xticks(fontsize = 14)\n",
        "plt.yticks(fontsize = 14)\n",
        "\n",
        "\n",
        "plt.subplot(1,2,2)\n",
        "plt.title(\"$accuracy$\", fontsize = 18)\n",
        "plt.plot(accuracies)\n",
        "plt.grid()\n",
        "plt.xlabel(\"$epochs$\", fontsize = 16)\n",
        "plt.xticks(fontsize = 14)\n",
        "plt.yticks(fontsize = 14)\n",
        "\n",
        "plt.show()"
      ]
    },
    {
      "cell_type": "code",
      "execution_count": 37,
      "metadata": {
        "id": "RY6hOROnnaRG"
      },
      "outputs": [
        {
          "name": "stdout",
          "output_type": "stream",
          "text": [
            "torch.return_types.max(\n",
            "values=tensor([1.9053, 1.9938, 1.2824, 1.8539, 0.9829, 1.6290, 1.9718, 1.3698, 2.7296,\n",
            "        1.7049, 1.8723, 1.4288, 1.9306, 1.7215, 0.6830, 2.1064, 1.5962, 1.3775,\n",
            "        1.3922, 0.6092, 0.8547, 2.0014, 2.2476, 1.5278, 2.3182, 1.6901, 1.4537,\n",
            "        1.3775, 2.7527, 3.6375, 1.0649, 2.4934, 2.4363, 1.5990, 1.8641, 1.5940,\n",
            "        3.1248, 1.6106], grad_fn=<MaxBackward0>),\n",
            "indices=tensor([1, 0, 1, 0, 2, 2, 2, 2, 1, 1, 0, 2, 0, 2, 2, 0, 0, 2, 0, 1, 2, 1, 0, 0,\n",
            "        0, 0, 2, 2, 1, 0, 2, 1, 0, 0, 0, 2, 0, 2]))\n",
            "test_set accuracy : 0.9474\n"
          ]
        }
      ],
      "source": [
        "# Test\n",
        "\n",
        "output = net(X_test)\n",
        "print(torch.max(output, dim=1))\n",
        "_, predicted = torch.max(output, dim=1)\n",
        "accuracy = round((predicted == y_test).sum().item() / len(y_test),4)\n",
        "\n",
        "\n",
        "print(\"test_set accuracy :\", round(accuracy,4))"
      ]
    }
  ],
  "metadata": {
    "colab": {
      "collapsed_sections": [],
      "name": "Pytorch Tutorial(Autograd, MLP).ipynb",
      "provenance": []
    },
    "kernelspec": {
      "display_name": "Python 3",
      "name": "python3"
    },
    "language_info": {
      "codemirror_mode": {
        "name": "ipython",
        "version": 3
      },
      "file_extension": ".py",
      "mimetype": "text/x-python",
      "name": "python",
      "nbconvert_exporter": "python",
      "pygments_lexer": "ipython3",
      "version": "3.9.7"
    }
  },
  "nbformat": 4,
  "nbformat_minor": 0
}
