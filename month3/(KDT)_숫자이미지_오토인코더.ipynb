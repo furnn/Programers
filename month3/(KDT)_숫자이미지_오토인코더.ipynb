{
  "cells": [
    {
      "cell_type": "markdown",
      "metadata": {
        "colab_type": "text",
        "id": "view-in-github"
      },
      "source": [
        "<a href=\"https://colab.research.google.com/github/learn-programmers/programmers_kdt_II/blob/main/(KDT)_%EC%88%AB%EC%9E%90%EC%9D%B4%EB%AF%B8%EC%A7%80_%EC%98%A4%ED%86%A0%EC%9D%B8%EC%BD%94%EB%8D%94.ipynb\" target=\"_parent\"><img src=\"https://colab.research.google.com/assets/colab-badge.svg\" alt=\"Open In Colab\"/></a>"
      ]
    },
    {
      "cell_type": "code",
      "execution_count": 1,
      "metadata": {
        "id": "cv2rcOr48imA"
      },
      "outputs": [],
      "source": [
        "import numpy as np\n",
        "import matplotlib.pyplot as plt\n",
        "from keras.layers import Input, Dense\n",
        "from keras.models import Model\n",
        "from keras.datasets import mnist"
      ]
    },
    {
      "cell_type": "code",
      "execution_count": 2,
      "metadata": {
        "colab": {
          "base_uri": "https://localhost:8080/"
        },
        "id": "KUr2MERZA5XS",
        "outputId": "36951348-f9bb-42dc-fabe-bea453e8e6c7"
      },
      "outputs": [
        {
          "name": "stdout",
          "output_type": "stream",
          "text": [
            "Downloading data from https://storage.googleapis.com/tensorflow/tf-keras-datasets/mnist.npz\n",
            "11490434/11490434 [==============================] - 1s 0us/step\n",
            "(60000, 28, 28)\n"
          ]
        }
      ],
      "source": [
        "(x_train, y_train), (x_test, y_test) = mnist.load_data()\n",
        "\n",
        "x_train = x_train.astype('float32') / 256\n",
        "x_test = x_test.astype('float32') / 256\n",
        "\n",
        "print(x_train.shape)"
      ]
    },
    {
      "cell_type": "code",
      "execution_count": 3,
      "metadata": {
        "colab": {
          "base_uri": "https://localhost:8080/"
        },
        "id": "5t7KNCvPoIz1",
        "outputId": "0edf2a88-0252-4604-bf78-73aacf87aa53"
      },
      "outputs": [
        {
          "name": "stdout",
          "output_type": "stream",
          "text": [
            "(60000, 784)\n",
            "(10000, 784)\n"
          ]
        }
      ],
      "source": [
        "x_train = x_train.reshape(len(x_train), 28*28)\n",
        "x_test = x_test.reshape(len(x_test), 28*28)\n",
        "\n",
        "print(x_train.shape)\n",
        "print(x_test.shape)"
      ]
    },
    {
      "cell_type": "code",
      "execution_count": 4,
      "metadata": {
        "id": "MCtTpQRjA9X4"
      },
      "outputs": [],
      "source": [
        "input_layer = Input(shape=(784,))\n",
        "encoded = Dense(64, activation='relu')(input_layer)\n",
        "decoded = Dense(784, activation='sigmoid')(encoded)"
      ]
    },
    {
      "cell_type": "code",
      "execution_count": 5,
      "metadata": {
        "id": "LOMYwzl0BAtE"
      },
      "outputs": [],
      "source": [
        "autoencoder = Model(input_layer, decoded)"
      ]
    },
    {
      "cell_type": "code",
      "execution_count": 6,
      "metadata": {
        "id": "wuo7vQ2MBHZW"
      },
      "outputs": [],
      "source": [
        "encoder = Model(input_layer, encoded)"
      ]
    },
    {
      "cell_type": "code",
      "execution_count": 7,
      "metadata": {
        "id": "xSvPdJDLBJrS"
      },
      "outputs": [],
      "source": [
        "input_layer_decoder = Input(shape=(64,))\n",
        "decoder_layer = autoencoder.layers[-1](input_layer_decoder)\n",
        "decoder = Model(input_layer_decoder,decoder_layer)"
      ]
    },
    {
      "cell_type": "code",
      "execution_count": 8,
      "metadata": {
        "colab": {
          "base_uri": "https://localhost:8080/"
        },
        "id": "_4vqBbPjBPh3",
        "outputId": "a901a452-eb08-4179-ea78-ff74a60a9498"
      },
      "outputs": [
        {
          "name": "stdout",
          "output_type": "stream",
          "text": [
            "Model: \"model\"\n",
            "_________________________________________________________________\n",
            " Layer (type)                Output Shape              Param #   \n",
            "=================================================================\n",
            " input_1 (InputLayer)        [(None, 784)]             0         \n",
            "                                                                 \n",
            " dense (Dense)               (None, 64)                50240     \n",
            "                                                                 \n",
            " dense_1 (Dense)             (None, 784)               50960     \n",
            "                                                                 \n",
            "=================================================================\n",
            "Total params: 101,200\n",
            "Trainable params: 101,200\n",
            "Non-trainable params: 0\n",
            "_________________________________________________________________\n"
          ]
        }
      ],
      "source": [
        "autoencoder.summary()"
      ]
    },
    {
      "cell_type": "code",
      "execution_count": 9,
      "metadata": {
        "colab": {
          "base_uri": "https://localhost:8080/"
        },
        "id": "Fn_BHg3YBgo6",
        "outputId": "4f9aa3ea-d449-4f20-813b-c5188b7e2002"
      },
      "outputs": [
        {
          "name": "stdout",
          "output_type": "stream",
          "text": [
            "Epoch 1/50\n",
            "235/235 [==============================] - 2s 7ms/step - loss: 0.2446 - val_loss: 0.1631\n",
            "Epoch 2/50\n",
            "235/235 [==============================] - 1s 6ms/step - loss: 0.1444 - val_loss: 0.1267\n",
            "Epoch 3/50\n",
            "235/235 [==============================] - 1s 6ms/step - loss: 0.1182 - val_loss: 0.1086\n",
            "Epoch 4/50\n",
            "235/235 [==============================] - 2s 7ms/step - loss: 0.1042 - val_loss: 0.0979\n",
            "Epoch 5/50\n",
            "235/235 [==============================] - 1s 6ms/step - loss: 0.0953 - val_loss: 0.0908\n",
            "Epoch 6/50\n",
            "235/235 [==============================] - 1s 6ms/step - loss: 0.0891 - val_loss: 0.0858\n",
            "Epoch 7/50\n",
            "235/235 [==============================] - 1s 6ms/step - loss: 0.0849 - val_loss: 0.0824\n",
            "Epoch 8/50\n",
            "235/235 [==============================] - 1s 5ms/step - loss: 0.0821 - val_loss: 0.0803\n",
            "Epoch 9/50\n",
            "235/235 [==============================] - 1s 6ms/step - loss: 0.0801 - val_loss: 0.0786\n",
            "Epoch 10/50\n",
            "235/235 [==============================] - 1s 6ms/step - loss: 0.0788 - val_loss: 0.0776\n",
            "Epoch 11/50\n",
            "235/235 [==============================] - 1s 6ms/step - loss: 0.0779 - val_loss: 0.0768\n",
            "Epoch 12/50\n",
            "235/235 [==============================] - 1s 5ms/step - loss: 0.0772 - val_loss: 0.0762\n",
            "Epoch 13/50\n",
            "235/235 [==============================] - 1s 5ms/step - loss: 0.0767 - val_loss: 0.0759\n",
            "Epoch 14/50\n",
            "235/235 [==============================] - 1s 6ms/step - loss: 0.0763 - val_loss: 0.0755\n",
            "Epoch 15/50\n",
            "235/235 [==============================] - 1s 6ms/step - loss: 0.0760 - val_loss: 0.0752\n",
            "Epoch 16/50\n",
            "235/235 [==============================] - 1s 5ms/step - loss: 0.0757 - val_loss: 0.0750\n",
            "Epoch 17/50\n",
            "235/235 [==============================] - 1s 6ms/step - loss: 0.0755 - val_loss: 0.0749\n",
            "Epoch 18/50\n",
            "235/235 [==============================] - 1s 5ms/step - loss: 0.0754 - val_loss: 0.0748\n",
            "Epoch 19/50\n",
            "235/235 [==============================] - 1s 5ms/step - loss: 0.0752 - val_loss: 0.0746\n",
            "Epoch 20/50\n",
            "235/235 [==============================] - 1s 5ms/step - loss: 0.0751 - val_loss: 0.0745\n",
            "Epoch 21/50\n",
            "235/235 [==============================] - 1s 5ms/step - loss: 0.0750 - val_loss: 0.0744\n",
            "Epoch 22/50\n",
            "235/235 [==============================] - 1s 5ms/step - loss: 0.0749 - val_loss: 0.0744\n",
            "Epoch 23/50\n",
            "235/235 [==============================] - 1s 5ms/step - loss: 0.0749 - val_loss: 0.0743\n",
            "Epoch 24/50\n",
            "235/235 [==============================] - 1s 5ms/step - loss: 0.0748 - val_loss: 0.0743\n",
            "Epoch 25/50\n",
            "235/235 [==============================] - 1s 5ms/step - loss: 0.0747 - val_loss: 0.0742\n",
            "Epoch 26/50\n",
            "235/235 [==============================] - 1s 5ms/step - loss: 0.0747 - val_loss: 0.0742\n",
            "Epoch 27/50\n",
            "235/235 [==============================] - 1s 5ms/step - loss: 0.0746 - val_loss: 0.0741\n",
            "Epoch 28/50\n",
            "235/235 [==============================] - 1s 6ms/step - loss: 0.0746 - val_loss: 0.0741\n",
            "Epoch 29/50\n",
            "235/235 [==============================] - 1s 5ms/step - loss: 0.0745 - val_loss: 0.0740\n",
            "Epoch 30/50\n",
            "235/235 [==============================] - 1s 5ms/step - loss: 0.0745 - val_loss: 0.0740\n",
            "Epoch 31/50\n",
            "235/235 [==============================] - 1s 5ms/step - loss: 0.0745 - val_loss: 0.0739\n",
            "Epoch 32/50\n",
            "235/235 [==============================] - 1s 5ms/step - loss: 0.0744 - val_loss: 0.0739\n",
            "Epoch 33/50\n",
            "235/235 [==============================] - 1s 5ms/step - loss: 0.0744 - val_loss: 0.0739\n",
            "Epoch 34/50\n",
            "235/235 [==============================] - 1s 5ms/step - loss: 0.0744 - val_loss: 0.0739\n",
            "Epoch 35/50\n",
            "235/235 [==============================] - 1s 5ms/step - loss: 0.0743 - val_loss: 0.0739\n",
            "Epoch 36/50\n",
            "235/235 [==============================] - 1s 5ms/step - loss: 0.0743 - val_loss: 0.0738\n",
            "Epoch 37/50\n",
            "235/235 [==============================] - 1s 5ms/step - loss: 0.0743 - val_loss: 0.0739\n",
            "Epoch 38/50\n",
            "235/235 [==============================] - 1s 5ms/step - loss: 0.0743 - val_loss: 0.0738\n",
            "Epoch 39/50\n",
            "235/235 [==============================] - 1s 6ms/step - loss: 0.0743 - val_loss: 0.0738\n",
            "Epoch 40/50\n",
            "235/235 [==============================] - 1s 5ms/step - loss: 0.0742 - val_loss: 0.0738\n",
            "Epoch 41/50\n",
            "235/235 [==============================] - 1s 6ms/step - loss: 0.0742 - val_loss: 0.0738\n",
            "Epoch 42/50\n",
            "235/235 [==============================] - 1s 6ms/step - loss: 0.0742 - val_loss: 0.0737\n",
            "Epoch 43/50\n",
            "235/235 [==============================] - 1s 5ms/step - loss: 0.0742 - val_loss: 0.0737\n",
            "Epoch 44/50\n",
            "235/235 [==============================] - 1s 6ms/step - loss: 0.0742 - val_loss: 0.0738\n",
            "Epoch 45/50\n",
            "235/235 [==============================] - 1s 6ms/step - loss: 0.0742 - val_loss: 0.0737\n",
            "Epoch 46/50\n",
            "235/235 [==============================] - 1s 5ms/step - loss: 0.0741 - val_loss: 0.0737\n",
            "Epoch 47/50\n",
            "235/235 [==============================] - 1s 6ms/step - loss: 0.0741 - val_loss: 0.0736\n",
            "Epoch 48/50\n",
            "235/235 [==============================] - 1s 5ms/step - loss: 0.0741 - val_loss: 0.0737\n",
            "Epoch 49/50\n",
            "235/235 [==============================] - 2s 8ms/step - loss: 0.0741 - val_loss: 0.0737\n",
            "Epoch 50/50\n",
            "235/235 [==============================] - 4s 16ms/step - loss: 0.0741 - val_loss: 0.0737\n"
          ]
        },
        {
          "data": {
            "text/plain": [
              "<keras.callbacks.History at 0x20ceb0ce0e0>"
            ]
          },
          "execution_count": 9,
          "metadata": {},
          "output_type": "execute_result"
        }
      ],
      "source": [
        "autoencoder.compile(optimizer='adam', loss='binary_crossentropy')\n",
        "autoencoder.fit(x_train,x_train, epochs=50, batch_size=256, shuffle=True, validation_data=(x_test,x_test))"
      ]
    },
    {
      "cell_type": "code",
      "execution_count": 10,
      "metadata": {
        "id": "b5NbVnagD53c"
      },
      "outputs": [
        {
          "name": "stdout",
          "output_type": "stream",
          "text": [
            "313/313 [==============================] - 1s 3ms/step\n",
            "313/313 [==============================] - 2s 5ms/step\n"
          ]
        }
      ],
      "source": [
        "encoded_images = encoder.predict(x_test)\n",
        "decoded_images = decoder.predict(encoded_images)"
      ]
    },
    {
      "cell_type": "code",
      "execution_count": 11,
      "metadata": {
        "id": "UAmQi8DhD-Yf"
      },
      "outputs": [],
      "source": [
        "def visualize(data, size):\n",
        "    n = 8\n",
        "    plt.figure(figsize=(20,4))\n",
        "    plt.gray()\n",
        "    for i in range(n):\n",
        "        ax = plt.subplot(2,n,i+1)\n",
        "        plt.imshow(data[i].reshape(size,size))\n",
        "        ax.get_xaxis().set_visible(False)\n",
        "        ax.get_yaxis().set_visible(False)\n",
        "    plt.show()"
      ]
    },
    {
      "cell_type": "code",
      "execution_count": 12,
      "metadata": {
        "colab": {
          "base_uri": "https://localhost:8080/",
          "height": 365
        },
        "id": "3OF0nVYuEB35",
        "outputId": "d52b5e32-78f5-47b8-feb5-bc80ef27a98d"
      },
      "outputs": [
        {
          "data": {
            "image/png": "[encoded data removed]",
            "text/plain": [
              "<Figure size 2000x400 with 8 Axes>"
            ]
          },
          "metadata": {},
          "output_type": "display_data"
        },
        {
          "data": {
            "image/png": "[encoded data removed]",
            "text/plain": [
              "<Figure size 2000x400 with 8 Axes>"
            ]
          },
          "metadata": {},
          "output_type": "display_data"
        },
        {
          "data": {
            "image/png": "[encoded data removed]",
            "text/plain": [
              "<Figure size 2000x400 with 8 Axes>"
            ]
          },
          "metadata": {},
          "output_type": "display_data"
        }
      ],
      "source": [
        "visualize(x_test, 28)\n",
        "visualize(encoded_images, 8)\n",
        "visualize(decoded_images, 28)"
      ]
    },
    {
      "cell_type": "code",
      "execution_count": null,
      "metadata": {
        "id": "sXlp1WvQEM0o"
      },
      "outputs": [],
      "source": []
    }
  ],
  "metadata": {
    "colab": {
      "include_colab_link": true,
      "name": "(KDT) 숫자이미지 오토인코더",
      "provenance": []
    },
    "kernelspec": {
      "display_name": "Python 3",
      "name": "python3"
    },
    "language_info": {
      "codemirror_mode": {
        "name": "ipython",
        "version": 3
      },
      "file_extension": ".py",
      "mimetype": "text/x-python",
      "name": "python",
      "nbconvert_exporter": "python",
      "pygments_lexer": "ipython3",
      "version": "3.10.7"
    }
  },
  "nbformat": 4,
  "nbformat_minor": 0
}
