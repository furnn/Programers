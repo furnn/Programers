{
  "cells": [
    {
      "cell_type": "markdown",
      "metadata": {
        "colab_type": "text",
        "id": "view-in-github"
      },
      "source": [
        "<a href=\"https://colab.research.google.com/github/learn-programmers/programmers_kdt_II/blob/main/(KDT)_%EB%8D%94%EB%AF%B8_%EB%8D%B0%EC%9D%B4%ED%84%B0%EB%A5%BC_%EC%9D%B4%EC%9A%A9%ED%95%9C_%EC%82%AC%EC%9A%A9%EC%9E%90_%EA%B8%B0%EB%B0%98_%EC%B6%94%EC%B2%9C_%EC%8B%A4%EC%8A%B5.ipynb\" target=\"_parent\"><img src=\"https://colab.research.google.com/assets/colab-badge.svg\" alt=\"Open In Colab\"/></a>"
      ]
    },
    {
      "cell_type": "code",
      "execution_count": 1,
      "metadata": {
        "id": "hNYMxHoxCIUj"
      },
      "outputs": [],
      "source": [
        "import pandas as pd\n",
        "from sklearn.metrics.pairwise import cosine_similarity"
      ]
    },
    {
      "cell_type": "code",
      "execution_count": 2,
      "metadata": {
        "id": "yMSjSA8QDLpA"
      },
      "outputs": [],
      "source": [
        "dummy_rating = pd.read_csv(\"https://grepp-reco-test.s3.ap-northeast-2.amazonaws.com/dummy_rating.csv\", index_col=0)"
      ]
    },
    {
      "cell_type": "code",
      "execution_count": 3,
      "metadata": {
        "id": "ND5mf6sVsoxs"
      },
      "outputs": [
        {
          "data": {
            "text/plain": [
              "(5, 6)"
            ]
          },
          "execution_count": 3,
          "metadata": {},
          "output_type": "execute_result"
        }
      ],
      "source": [
        "dummy_rating.shape"
      ]
    },
    {
      "cell_type": "code",
      "execution_count": 4,
      "metadata": {
        "id": "t4eKv_FrD0bz"
      },
      "outputs": [
        {
          "data": {
            "text/html": [
              "<div>\n",
              "<style scoped>\n",
              "    .dataframe tbody tr th:only-of-type {\n",
              "        vertical-align: middle;\n",
              "    }\n",
              "\n",
              "    .dataframe tbody tr th {\n",
              "        vertical-align: top;\n",
              "    }\n",
              "\n",
              "    .dataframe thead th {\n",
              "        text-align: right;\n",
              "    }\n",
              "</style>\n",
              "<table border=\"1\" class=\"dataframe\">\n",
              "  <thead>\n",
              "    <tr style=\"text-align: right;\">\n",
              "      <th></th>\n",
              "      <th>scifi1</th>\n",
              "      <th>scifi2</th>\n",
              "      <th>scifi3</th>\n",
              "      <th>comedy1</th>\n",
              "      <th>comedy2</th>\n",
              "      <th>comedy3</th>\n",
              "    </tr>\n",
              "  </thead>\n",
              "  <tbody>\n",
              "    <tr>\n",
              "      <th>user1</th>\n",
              "      <td>4.0</td>\n",
              "      <td>5.0</td>\n",
              "      <td>3.0</td>\n",
              "      <td>NaN</td>\n",
              "      <td>2.0</td>\n",
              "      <td>1.0</td>\n",
              "    </tr>\n",
              "    <tr>\n",
              "      <th>user2</th>\n",
              "      <td>5.0</td>\n",
              "      <td>3.0</td>\n",
              "      <td>3.0</td>\n",
              "      <td>2.0</td>\n",
              "      <td>2.0</td>\n",
              "      <td>NaN</td>\n",
              "    </tr>\n",
              "    <tr>\n",
              "      <th>user3</th>\n",
              "      <td>1.0</td>\n",
              "      <td>NaN</td>\n",
              "      <td>NaN</td>\n",
              "      <td>4.0</td>\n",
              "      <td>5.0</td>\n",
              "      <td>4.0</td>\n",
              "    </tr>\n",
              "    <tr>\n",
              "      <th>user4</th>\n",
              "      <td>NaN</td>\n",
              "      <td>2.0</td>\n",
              "      <td>1.0</td>\n",
              "      <td>4.0</td>\n",
              "      <td>NaN</td>\n",
              "      <td>3.0</td>\n",
              "    </tr>\n",
              "    <tr>\n",
              "      <th>user5</th>\n",
              "      <td>1.0</td>\n",
              "      <td>NaN</td>\n",
              "      <td>2.0</td>\n",
              "      <td>3.0</td>\n",
              "      <td>3.0</td>\n",
              "      <td>4.0</td>\n",
              "    </tr>\n",
              "  </tbody>\n",
              "</table>\n",
              "</div>"
            ],
            "text/plain": [
              "       scifi1  scifi2  scifi3  comedy1  comedy2  comedy3\n",
              "user1     4.0     5.0     3.0      NaN      2.0      1.0\n",
              "user2     5.0     3.0     3.0      2.0      2.0      NaN\n",
              "user3     1.0     NaN     NaN      4.0      5.0      4.0\n",
              "user4     NaN     2.0     1.0      4.0      NaN      3.0\n",
              "user5     1.0     NaN     2.0      3.0      3.0      4.0"
            ]
          },
          "execution_count": 4,
          "metadata": {},
          "output_type": "execute_result"
        }
      ],
      "source": [
        "dummy_rating.head()"
      ]
    },
    {
      "cell_type": "code",
      "execution_count": 5,
      "metadata": {
        "id": "Arr4hz_iD4ip"
      },
      "outputs": [
        {
          "data": {
            "text/html": [
              "<div>\n",
              "<style scoped>\n",
              "    .dataframe tbody tr th:only-of-type {\n",
              "        vertical-align: middle;\n",
              "    }\n",
              "\n",
              "    .dataframe tbody tr th {\n",
              "        vertical-align: top;\n",
              "    }\n",
              "\n",
              "    .dataframe thead th {\n",
              "        text-align: right;\n",
              "    }\n",
              "</style>\n",
              "<table border=\"1\" class=\"dataframe\">\n",
              "  <thead>\n",
              "    <tr style=\"text-align: right;\">\n",
              "      <th></th>\n",
              "      <th>scifi1</th>\n",
              "      <th>scifi2</th>\n",
              "      <th>scifi3</th>\n",
              "      <th>comedy1</th>\n",
              "      <th>comedy2</th>\n",
              "      <th>comedy3</th>\n",
              "    </tr>\n",
              "  </thead>\n",
              "  <tbody>\n",
              "    <tr>\n",
              "      <th>user1</th>\n",
              "      <td>4.0</td>\n",
              "      <td>5.0</td>\n",
              "      <td>3.0</td>\n",
              "      <td>0.0</td>\n",
              "      <td>2.0</td>\n",
              "      <td>1.0</td>\n",
              "    </tr>\n",
              "    <tr>\n",
              "      <th>user2</th>\n",
              "      <td>5.0</td>\n",
              "      <td>3.0</td>\n",
              "      <td>3.0</td>\n",
              "      <td>2.0</td>\n",
              "      <td>2.0</td>\n",
              "      <td>0.0</td>\n",
              "    </tr>\n",
              "    <tr>\n",
              "      <th>user3</th>\n",
              "      <td>1.0</td>\n",
              "      <td>0.0</td>\n",
              "      <td>0.0</td>\n",
              "      <td>4.0</td>\n",
              "      <td>5.0</td>\n",
              "      <td>4.0</td>\n",
              "    </tr>\n",
              "    <tr>\n",
              "      <th>user4</th>\n",
              "      <td>0.0</td>\n",
              "      <td>2.0</td>\n",
              "      <td>1.0</td>\n",
              "      <td>4.0</td>\n",
              "      <td>0.0</td>\n",
              "      <td>3.0</td>\n",
              "    </tr>\n",
              "    <tr>\n",
              "      <th>user5</th>\n",
              "      <td>1.0</td>\n",
              "      <td>0.0</td>\n",
              "      <td>2.0</td>\n",
              "      <td>3.0</td>\n",
              "      <td>3.0</td>\n",
              "      <td>4.0</td>\n",
              "    </tr>\n",
              "  </tbody>\n",
              "</table>\n",
              "</div>"
            ],
            "text/plain": [
              "       scifi1  scifi2  scifi3  comedy1  comedy2  comedy3\n",
              "user1     4.0     5.0     3.0      0.0      2.0      1.0\n",
              "user2     5.0     3.0     3.0      2.0      2.0      0.0\n",
              "user3     1.0     0.0     0.0      4.0      5.0      4.0\n",
              "user4     0.0     2.0     1.0      4.0      0.0      3.0\n",
              "user5     1.0     0.0     2.0      3.0      3.0      4.0"
            ]
          },
          "execution_count": 5,
          "metadata": {},
          "output_type": "execute_result"
        }
      ],
      "source": [
        "dummy_rating.fillna(0, inplace=True)\n",
        "dummy_rating"
      ]
    },
    {
      "cell_type": "code",
      "execution_count": 6,
      "metadata": {
        "id": "PDB6vSY3EDJN"
      },
      "outputs": [
        {
          "data": {
            "text/html": [
              "<div>\n",
              "<style scoped>\n",
              "    .dataframe tbody tr th:only-of-type {\n",
              "        vertical-align: middle;\n",
              "    }\n",
              "\n",
              "    .dataframe tbody tr th {\n",
              "        vertical-align: top;\n",
              "    }\n",
              "\n",
              "    .dataframe thead th {\n",
              "        text-align: right;\n",
              "    }\n",
              "</style>\n",
              "<table border=\"1\" class=\"dataframe\">\n",
              "  <thead>\n",
              "    <tr style=\"text-align: right;\">\n",
              "      <th></th>\n",
              "      <th>scifi1</th>\n",
              "      <th>scifi2</th>\n",
              "      <th>scifi3</th>\n",
              "      <th>comedy1</th>\n",
              "      <th>comedy2</th>\n",
              "      <th>comedy3</th>\n",
              "    </tr>\n",
              "  </thead>\n",
              "  <tbody>\n",
              "    <tr>\n",
              "      <th>user1</th>\n",
              "      <td>0.36</td>\n",
              "      <td>0.6</td>\n",
              "      <td>0.400000</td>\n",
              "      <td>-0.65</td>\n",
              "      <td>-0.08</td>\n",
              "      <td>-0.35</td>\n",
              "    </tr>\n",
              "    <tr>\n",
              "      <th>user2</th>\n",
              "      <td>0.56</td>\n",
              "      <td>0.2</td>\n",
              "      <td>0.400000</td>\n",
              "      <td>-0.15</td>\n",
              "      <td>-0.08</td>\n",
              "      <td>-0.60</td>\n",
              "    </tr>\n",
              "    <tr>\n",
              "      <th>user3</th>\n",
              "      <td>-0.24</td>\n",
              "      <td>-0.4</td>\n",
              "      <td>-0.600000</td>\n",
              "      <td>0.35</td>\n",
              "      <td>0.52</td>\n",
              "      <td>0.40</td>\n",
              "    </tr>\n",
              "    <tr>\n",
              "      <th>user4</th>\n",
              "      <td>-0.44</td>\n",
              "      <td>0.0</td>\n",
              "      <td>-0.266667</td>\n",
              "      <td>0.35</td>\n",
              "      <td>-0.48</td>\n",
              "      <td>0.15</td>\n",
              "    </tr>\n",
              "    <tr>\n",
              "      <th>user5</th>\n",
              "      <td>-0.24</td>\n",
              "      <td>-0.4</td>\n",
              "      <td>0.066667</td>\n",
              "      <td>0.10</td>\n",
              "      <td>0.12</td>\n",
              "      <td>0.40</td>\n",
              "    </tr>\n",
              "  </tbody>\n",
              "</table>\n",
              "</div>"
            ],
            "text/plain": [
              "       scifi1  scifi2    scifi3  comedy1  comedy2  comedy3\n",
              "user1    0.36     0.6  0.400000    -0.65    -0.08    -0.35\n",
              "user2    0.56     0.2  0.400000    -0.15    -0.08    -0.60\n",
              "user3   -0.24    -0.4 -0.600000     0.35     0.52     0.40\n",
              "user4   -0.44     0.0 -0.266667     0.35    -0.48     0.15\n",
              "user5   -0.24    -0.4  0.066667     0.10     0.12     0.40"
            ]
          },
          "execution_count": 6,
          "metadata": {},
          "output_type": "execute_result"
        }
      ],
      "source": [
        "# 평점 정보를 보정. 이후에 코사인 유사도를 사용하면 이는 피어슨 유사도에 해당\n",
        "def standardize(row):\n",
        "    new_row = (row - row.mean())/(row.max()-row.min())\n",
        "    return new_row\n",
        "\n",
        "dummy_rating_std = dummy_rating.apply(standardize)\n",
        "dummy_rating_std.head()"
      ]
    },
    {
      "cell_type": "code",
      "execution_count": 7,
      "metadata": {
        "id": "H-mvAftFJLBF"
      },
      "outputs": [
        {
          "data": {
            "text/html": [
              "<div>\n",
              "<style scoped>\n",
              "    .dataframe tbody tr th:only-of-type {\n",
              "        vertical-align: middle;\n",
              "    }\n",
              "\n",
              "    .dataframe tbody tr th {\n",
              "        vertical-align: top;\n",
              "    }\n",
              "\n",
              "    .dataframe thead th {\n",
              "        text-align: right;\n",
              "    }\n",
              "</style>\n",
              "<table border=\"1\" class=\"dataframe\">\n",
              "  <thead>\n",
              "    <tr style=\"text-align: right;\">\n",
              "      <th></th>\n",
              "      <th>user1</th>\n",
              "      <th>user2</th>\n",
              "      <th>user3</th>\n",
              "      <th>user4</th>\n",
              "      <th>user5</th>\n",
              "    </tr>\n",
              "  </thead>\n",
              "  <tbody>\n",
              "    <tr>\n",
              "      <th>user1</th>\n",
              "      <td>1.000000</td>\n",
              "      <td>0.906306</td>\n",
              "      <td>0.318696</td>\n",
              "      <td>0.393893</td>\n",
              "      <td>0.431834</td>\n",
              "    </tr>\n",
              "    <tr>\n",
              "      <th>user2</th>\n",
              "      <td>0.906306</td>\n",
              "      <td>1.000000</td>\n",
              "      <td>0.422891</td>\n",
              "      <td>0.434613</td>\n",
              "      <td>0.515716</td>\n",
              "    </tr>\n",
              "    <tr>\n",
              "      <th>user3</th>\n",
              "      <td>0.318696</td>\n",
              "      <td>0.422891</td>\n",
              "      <td>1.000000</td>\n",
              "      <td>0.671249</td>\n",
              "      <td>0.925138</td>\n",
              "    </tr>\n",
              "    <tr>\n",
              "      <th>user4</th>\n",
              "      <td>0.393893</td>\n",
              "      <td>0.434613</td>\n",
              "      <td>0.671249</td>\n",
              "      <td>1.000000</td>\n",
              "      <td>0.760117</td>\n",
              "    </tr>\n",
              "    <tr>\n",
              "      <th>user5</th>\n",
              "      <td>0.431834</td>\n",
              "      <td>0.515716</td>\n",
              "      <td>0.925138</td>\n",
              "      <td>0.760117</td>\n",
              "      <td>1.000000</td>\n",
              "    </tr>\n",
              "  </tbody>\n",
              "</table>\n",
              "</div>"
            ],
            "text/plain": [
              "          user1     user2     user3     user4     user5\n",
              "user1  1.000000  0.906306  0.318696  0.393893  0.431834\n",
              "user2  0.906306  1.000000  0.422891  0.434613  0.515716\n",
              "user3  0.318696  0.422891  1.000000  0.671249  0.925138\n",
              "user4  0.393893  0.434613  0.671249  1.000000  0.760117\n",
              "user5  0.431834  0.515716  0.925138  0.760117  1.000000"
            ]
          },
          "execution_count": 7,
          "metadata": {},
          "output_type": "execute_result"
        }
      ],
      "source": [
        "# 정규화 없이 아이템간의 유사도 측정 행렬 만들기\n",
        "corrMatrix_wo_std = pd.DataFrame(cosine_similarity(dummy_rating), index=dummy_rating.index, columns=dummy_rating.index)\n",
        "corrMatrix_wo_std"
      ]
    },
    {
      "cell_type": "code",
      "execution_count": 8,
      "metadata": {
        "id": "hhEsGTdpO5Gx"
      },
      "outputs": [
        {
          "data": {
            "text/html": [
              "<div>\n",
              "<style scoped>\n",
              "    .dataframe tbody tr th:only-of-type {\n",
              "        vertical-align: middle;\n",
              "    }\n",
              "\n",
              "    .dataframe tbody tr th {\n",
              "        vertical-align: top;\n",
              "    }\n",
              "\n",
              "    .dataframe thead th {\n",
              "        text-align: right;\n",
              "    }\n",
              "</style>\n",
              "<table border=\"1\" class=\"dataframe\">\n",
              "  <thead>\n",
              "    <tr style=\"text-align: right;\">\n",
              "      <th></th>\n",
              "      <th>user1</th>\n",
              "      <th>user2</th>\n",
              "      <th>user3</th>\n",
              "      <th>user4</th>\n",
              "      <th>user5</th>\n",
              "    </tr>\n",
              "  </thead>\n",
              "  <tbody>\n",
              "    <tr>\n",
              "      <th>user1</th>\n",
              "      <td>1.000000</td>\n",
              "      <td>0.764091</td>\n",
              "      <td>-0.837183</td>\n",
              "      <td>-0.577861</td>\n",
              "      <td>-0.736161</td>\n",
              "    </tr>\n",
              "    <tr>\n",
              "      <th>user2</th>\n",
              "      <td>0.764091</td>\n",
              "      <td>1.000000</td>\n",
              "      <td>-0.780626</td>\n",
              "      <td>-0.601483</td>\n",
              "      <td>-0.746852</td>\n",
              "    </tr>\n",
              "    <tr>\n",
              "      <th>user3</th>\n",
              "      <td>-0.837183</td>\n",
              "      <td>-0.780626</td>\n",
              "      <td>1.000000</td>\n",
              "      <td>0.233344</td>\n",
              "      <td>0.641732</td>\n",
              "    </tr>\n",
              "    <tr>\n",
              "      <th>user4</th>\n",
              "      <td>-0.577861</td>\n",
              "      <td>-0.601483</td>\n",
              "      <td>0.233344</td>\n",
              "      <td>1.000000</td>\n",
              "      <td>0.245501</td>\n",
              "    </tr>\n",
              "    <tr>\n",
              "      <th>user5</th>\n",
              "      <td>-0.736161</td>\n",
              "      <td>-0.746852</td>\n",
              "      <td>0.641732</td>\n",
              "      <td>0.245501</td>\n",
              "      <td>1.000000</td>\n",
              "    </tr>\n",
              "  </tbody>\n",
              "</table>\n",
              "</div>"
            ],
            "text/plain": [
              "          user1     user2     user3     user4     user5\n",
              "user1  1.000000  0.764091 -0.837183 -0.577861 -0.736161\n",
              "user2  0.764091  1.000000 -0.780626 -0.601483 -0.746852\n",
              "user3 -0.837183 -0.780626  1.000000  0.233344  0.641732\n",
              "user4 -0.577861 -0.601483  0.233344  1.000000  0.245501\n",
              "user5 -0.736161 -0.746852  0.641732  0.245501  1.000000"
            ]
          },
          "execution_count": 8,
          "metadata": {},
          "output_type": "execute_result"
        }
      ],
      "source": [
        "# 정규화 기반 아이템간의 유사도 측정 행렬 만들기\n",
        "corrMatrix = pd.DataFrame(cosine_similarity(dummy_rating_std), index=dummy_rating.index, columns=dummy_rating.index)\n",
        "corrMatrix"
      ]
    },
    {
      "cell_type": "code",
      "execution_count": 9,
      "metadata": {
        "id": "MgS2PZ48Jn-H"
      },
      "outputs": [],
      "source": [
        "def get_similar(userId):\n",
        "    similar_score = corrMatrix[userId]\n",
        "    # 앞서 보정된 값을 가지고 평점의 내림차순으로 정렬\n",
        "    similar_score = similar_score.sort_values(ascending=False)\n",
        "    return similar_score"
      ]
    },
    {
      "cell_type": "code",
      "execution_count": 10,
      "metadata": {
        "id": "Cn00uRC3KABb"
      },
      "outputs": [
        {
          "data": {
            "text/plain": [
              "user1    1.000000\n",
              "user2    0.764091\n",
              "user4   -0.577861\n",
              "user5   -0.736161\n",
              "user3   -0.837183\n",
              "Name: user1, dtype: float64"
            ]
          },
          "execution_count": 10,
          "metadata": {},
          "output_type": "execute_result"
        }
      ],
      "source": [
        "scifi_lover = \"user1\"\n",
        "\n",
        "similar_users = get_similar(scifi_lover)\n",
        "similar_users.head(10)"
      ]
    },
    {
      "cell_type": "code",
      "execution_count": null,
      "metadata": {
        "id": "Nt_OWrWgL9fk"
      },
      "outputs": [],
      "source": []
    }
  ],
  "metadata": {
    "colab": {
      "collapsed_sections": [],
      "include_colab_link": true,
      "name": "(KDT) 더미 데이터를 이용한 사용자 기반 추천 실습",
      "provenance": []
    },
    "kernelspec": {
      "display_name": "Python 3",
      "name": "python3"
    },
    "language_info": {
      "codemirror_mode": {
        "name": "ipython",
        "version": 3
      },
      "file_extension": ".py",
      "mimetype": "text/x-python",
      "name": "python",
      "nbconvert_exporter": "python",
      "pygments_lexer": "ipython3",
      "version": "3.10.7"
    }
  },
  "nbformat": 4,
  "nbformat_minor": 0
}
