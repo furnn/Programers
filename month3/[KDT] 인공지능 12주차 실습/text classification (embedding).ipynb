{
 "cells": [
  {
   "cell_type": "code",
   "execution_count": 1,
   "metadata": {},
   "outputs": [
    {
     "name": "stderr",
     "output_type": "stream",
     "text": [
      "WARNING: Ignoring invalid distribution -rotobuf (c:\\users\\gka06\\appdata\\local\\programs\\python\\python310\\lib\\site-packages)\n",
      "WARNING: Ignoring invalid distribution -rotobuf (c:\\users\\gka06\\appdata\\local\\programs\\python\\python310\\lib\\site-packages)\n",
      "WARNING: Ignoring invalid distribution -rotobuf (c:\\users\\gka06\\appdata\\local\\programs\\python\\python310\\lib\\site-packages)\n",
      "WARNING: Ignoring invalid distribution -rotobuf (c:\\users\\gka06\\appdata\\local\\programs\\python\\python310\\lib\\site-packages)\n",
      "c:\\Users\\gka06\\AppData\\Local\\Programs\\Python\\Python310\\lib\\site-packages\\tqdm\\auto.py:22: TqdmWarning: IProgress not found. Please update jupyter and ipywidgets. See https://ipywidgets.readthedocs.io/en/stable/user_install.html\n",
      "  from .autonotebook import tqdm as notebook_tqdm\n"
     ]
    },
    {
     "name": "stdout",
     "output_type": "stream",
     "text": [
      "Version:  2.12.0\n",
      "Eager mode:  True\n",
      "Hub version:  0.14.0\n",
      "GPU is NOT AVAILABLE\n"
     ]
    }
   ],
   "source": [
    "import numpy as np\n",
    "\n",
    "import tensorflow as tf\n",
    "\n",
    "!pip install -q tensorflow-hub\n",
    "!pip install -q tensorflow-datasets\n",
    "import tensorflow_hub as hub\n",
    "import tensorflow_datasets as tfds\n",
    "\n",
    "print(\"Version: \", tf.__version__)\n",
    "print(\"Eager mode: \", tf.executing_eagerly())\n",
    "print(\"Hub version: \", hub.__version__)\n",
    "print(\"GPU is\", \"available\" if tf.config.experimental.list_physical_devices(\"GPU\") else \"NOT AVAILABLE\")"
   ]
  },
  {
   "cell_type": "code",
   "execution_count": 2,
   "metadata": {},
   "outputs": [],
   "source": [
    "# Split the training set into 60% and 40%, so we'll end up with 15,000 examples\n",
    "# for training, 10,000 examples for validation and 25,000 examples for testing.\n",
    "train_data, validation_data, test_data = tfds.load(\n",
    "    name=\"imdb_reviews\", \n",
    "    split=('train[:60%]', 'train[60%:]', 'test'),\n",
    "    as_supervised=True)"
   ]
  },
  {
   "cell_type": "code",
   "execution_count": 3,
   "metadata": {},
   "outputs": [],
   "source": [
    "#embedding = \"https://tfhub.dev/google/nnlm-en-dim50/2\"\n",
    "embedding = hub.load(\"https://tfhub.dev/google/nnlm-en-dim128-with-normalization/2\")\n",
    "hub_layer = hub.KerasLayer(embedding, input_shape=[],\n",
    "                           dtype=tf.string, trainable=True)"
   ]
  },
  {
   "cell_type": "code",
   "execution_count": 4,
   "metadata": {},
   "outputs": [],
   "source": [
    "train_examples_batch, train_labels_batch = next(iter(train_data.batch(10)))"
   ]
  },
  {
   "cell_type": "code",
   "execution_count": 5,
   "metadata": {},
   "outputs": [
    {
     "data": {
      "text/plain": [
       "<tf.Tensor: shape=(128,), dtype=float32, numpy=\n",
       "array([ 1.1501508 ,  0.078013  ,  0.09266154,  0.28336146,  0.00967164,\n",
       "       -0.14918603,  0.3356657 , -0.3502448 , -0.00828831, -0.0187714 ,\n",
       "       -0.03330697, -0.6330942 , -0.37542117, -0.27773282, -0.09661756,\n",
       "        0.17255366, -0.13367656,  0.03807658, -0.27513817,  0.4947623 ,\n",
       "        0.03930517,  0.13449624, -0.2707282 ,  0.01789428, -0.2410716 ,\n",
       "        0.02710899,  0.10233343, -0.10662853,  0.05242986,  0.11917052,\n",
       "       -0.00667078,  0.3392315 ,  0.11301497,  0.10684261,  0.39157125,\n",
       "       -0.18953632, -0.17400031, -0.10644417, -0.13420047,  0.17358392,\n",
       "       -0.27769503, -0.04335914, -0.03915006, -0.19834091,  0.02748548,\n",
       "        0.276703  ,  0.14070286, -0.3142561 ,  0.02475694, -0.16730827,\n",
       "        0.08217403, -0.09568419, -0.25733578,  0.3729147 , -0.22105993,\n",
       "       -0.21443687, -0.05832561,  0.15003687, -0.16772385, -0.080281  ,\n",
       "       -0.21137346, -0.0039831 ,  0.06347676,  0.06651689,  0.09252462,\n",
       "        0.11327882, -0.10095894, -0.22017631,  0.3498752 ,  0.0498271 ,\n",
       "       -0.15927915,  0.28220004,  0.04369194,  0.01837304, -0.00730237,\n",
       "        0.12252104, -0.05634077, -0.20771542, -0.23770685,  0.18973817,\n",
       "        0.1004604 , -0.20720549, -0.27095738,  0.03192319, -0.05624662,\n",
       "        0.03815874, -0.1476941 ,  0.141778  ,  0.9031463 ,  0.8365368 ,\n",
       "       -0.23157445,  0.28327516,  0.10939729, -0.24535999,  0.08628143,\n",
       "        0.22000547,  0.13230659,  0.01035273,  0.10613582, -0.00505983,\n",
       "       -0.04266078, -0.01622501,  0.3303628 ,  0.23382655,  0.09507088,\n",
       "       -0.35053444, -0.12018085,  0.06447393, -0.22268532,  0.07507505,\n",
       "       -0.28055465, -0.01969799, -0.26354548, -0.30530336, -0.0447772 ,\n",
       "       -0.24670511,  0.119343  ,  0.08742647, -0.02256166,  0.17026255,\n",
       "        0.07612792, -0.306843  , -0.05013254,  0.34590873, -0.00152096,\n",
       "       -0.255828  ,  0.16585533, -0.02580079], dtype=float32)>"
      ]
     },
     "execution_count": 5,
     "metadata": {},
     "output_type": "execute_result"
    }
   ],
   "source": [
    "hub_layer(train_examples_batch)[0]"
   ]
  },
  {
   "cell_type": "code",
   "execution_count": 6,
   "metadata": {},
   "outputs": [
    {
     "name": "stdout",
     "output_type": "stream",
     "text": [
      "Model: \"sequential\"\n",
      "_________________________________________________________________\n",
      " Layer (type)                Output Shape              Param #   \n",
      "=================================================================\n",
      " keras_layer (KerasLayer)    (None, 128)               124642688 \n",
      "                                                                 \n",
      " dense (Dense)               (None, 32)                4128      \n",
      "                                                                 \n",
      " dropout (Dropout)           (None, 32)                0         \n",
      "                                                                 \n",
      " dense_1 (Dense)             (None, 1)                 33        \n",
      "                                                                 \n",
      "=================================================================\n",
      "Total params: 124,646,849\n",
      "Trainable params: 124,646,849\n",
      "Non-trainable params: 0\n",
      "_________________________________________________________________\n"
     ]
    }
   ],
   "source": [
    "model = tf.keras.Sequential()\n",
    "model.add(hub_layer)\n",
    "model.add(tf.keras.layers.Dense(32, activation='relu'))\n",
    "model.add(tf.keras.layers.Dropout(rate=0.2))\n",
    "model.add(tf.keras.layers.Dense(1))\n",
    "\n",
    "model.summary()"
   ]
  },
  {
   "cell_type": "code",
   "execution_count": 7,
   "metadata": {},
   "outputs": [],
   "source": [
    "model.compile(optimizer='adam',\n",
    "              loss=tf.keras.losses.BinaryCrossentropy(from_logits=True),\n",
    "              metrics=['accuracy'])"
   ]
  },
  {
   "cell_type": "code",
   "execution_count": null,
   "metadata": {},
   "outputs": [],
   "source": [
    "history = model.fit(train_data.shuffle(10000).batch(512),\n",
    "                    epochs=20,\n",
    "                    validation_data=validation_data.batch(512),\n",
    "                    verbose=1)"
   ]
  },
  {
   "cell_type": "code",
   "execution_count": null,
   "metadata": {},
   "outputs": [],
   "source": [
    "results = model.evaluate(test_data.batch(32), verbose=2)\n",
    "\n",
    "for name, value in zip(model.metrics_names, results):\n",
    "  print(\"%s: %.3f\" % (name, value))"
   ]
  }
 ],
 "metadata": {
  "kernelspec": {
   "display_name": "Python 3",
   "language": "python",
   "name": "python3"
  },
  "language_info": {
   "codemirror_mode": {
    "name": "ipython",
    "version": 3
   },
   "file_extension": ".py",
   "mimetype": "text/x-python",
   "name": "python",
   "nbconvert_exporter": "python",
   "pygments_lexer": "ipython3",
   "version": "3.10.7"
  }
 },
 "nbformat": 4,
 "nbformat_minor": 4
}
