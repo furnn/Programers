{
  "cells": [
    {
      "cell_type": "markdown",
      "metadata": {
        "colab_type": "text",
        "id": "view-in-github"
      },
      "source": [
        "<a href=\"https://colab.research.google.com/github/learn-programmers/programmers_kdt_II/blob/main/(KDT)_%EC%82%AC%EC%9A%A9%EC%9E%90_%EA%B8%B0%EB%B0%98_%ED%98%91%EC%97%85_%ED%95%84%ED%84%B0%EB%A7%81_%EC%B6%94%EC%B2%9C.ipynb\" target=\"_parent\"><img src=\"https://colab.research.google.com/assets/colab-badge.svg\" alt=\"Open In Colab\"/></a>"
      ]
    },
    {
      "cell_type": "markdown",
      "metadata": {
        "id": "rqYkO_7p2CWm"
      },
      "source": [
        "# 무비렌즈 데이터를 가지고 사용자 협업 필터링을 구현해보자"
      ]
    },
    {
      "cell_type": "markdown",
      "metadata": {
        "id": "roEuxynyeM0l"
      },
      "source": [
        "surprise 모듈을 설치"
      ]
    },
    {
      "cell_type": "code",
      "execution_count": 1,
      "metadata": {
        "colab": {
          "base_uri": "https://localhost:8080/"
        },
        "id": "4Ep7L0e2ldgY",
        "outputId": "b3192e77-6919-40ec-d1f4-e771748bd8a2"
      },
      "outputs": [
        {
          "name": "stdout",
          "output_type": "stream",
          "text": [
            "Requirement already satisfied: surprise in c:\\users\\gka06\\appdata\\local\\programs\\python\\python310\\lib\\site-packages (0.1)\n",
            "Requirement already satisfied: scikit-surprise in c:\\users\\gka06\\appdata\\local\\programs\\python\\python310\\lib\\site-packages (from surprise) (1.1.3)\n",
            "Requirement already satisfied: joblib>=1.0.0 in c:\\users\\gka06\\appdata\\local\\programs\\python\\python310\\lib\\site-packages (from scikit-surprise->surprise) (1.2.0)\n",
            "Requirement already satisfied: numpy>=1.17.3 in c:\\users\\gka06\\appdata\\local\\programs\\python\\python310\\lib\\site-packages (from scikit-surprise->surprise) (1.22.0)\n",
            "Requirement already satisfied: scipy>=1.3.2 in c:\\users\\gka06\\appdata\\local\\programs\\python\\python310\\lib\\site-packages (from scikit-surprise->surprise) (1.10.1)\n"
          ]
        },
        {
          "name": "stderr",
          "output_type": "stream",
          "text": [
            "WARNING: Ignoring invalid distribution -rotobuf (c:\\users\\gka06\\appdata\\local\\programs\\python\\python310\\lib\\site-packages)\n",
            "WARNING: Ignoring invalid distribution -rotobuf (c:\\users\\gka06\\appdata\\local\\programs\\python\\python310\\lib\\site-packages)\n"
          ]
        }
      ],
      "source": [
        "!pip install surprise"
      ]
    },
    {
      "cell_type": "markdown",
      "metadata": {
        "id": "9ZQfxxifzG6k"
      },
      "source": [
        "# 데이터 로딩 및 분석"
      ]
    },
    {
      "cell_type": "code",
      "execution_count": 2,
      "metadata": {
        "id": "e4jdjZN254pO"
      },
      "outputs": [],
      "source": [
        "from surprise import Dataset\n",
        "from surprise import Reader\n",
        "\n",
        "from collections import defaultdict\n",
        "import numpy as np\n",
        "import pandas as pd"
      ]
    },
    {
      "cell_type": "code",
      "execution_count": 3,
      "metadata": {
        "id": "X9m_UFiBnx6m"
      },
      "outputs": [],
      "source": [
        "movies = pd.read_csv(\"https://grepp-reco-test.s3.ap-northeast-2.amazonaws.com/movielens/movies.csv\")\n",
        "ratings = pd.read_csv(\"https://grepp-reco-test.s3.ap-northeast-2.amazonaws.com/movielens/ratings.csv\")"
      ]
    },
    {
      "cell_type": "code",
      "execution_count": 4,
      "metadata": {
        "colab": {
          "base_uri": "https://localhost:8080/",
          "height": 195
        },
        "id": "kym07ydsoou8",
        "outputId": "ca722412-1612-4f4d-c9ca-6bb600f79984"
      },
      "outputs": [
        {
          "data": {
            "text/html": [
              "<div>\n",
              "<style scoped>\n",
              "    .dataframe tbody tr th:only-of-type {\n",
              "        vertical-align: middle;\n",
              "    }\n",
              "\n",
              "    .dataframe tbody tr th {\n",
              "        vertical-align: top;\n",
              "    }\n",
              "\n",
              "    .dataframe thead th {\n",
              "        text-align: right;\n",
              "    }\n",
              "</style>\n",
              "<table border=\"1\" class=\"dataframe\">\n",
              "  <thead>\n",
              "    <tr style=\"text-align: right;\">\n",
              "      <th></th>\n",
              "      <th>movieId</th>\n",
              "      <th>title</th>\n",
              "      <th>genres</th>\n",
              "    </tr>\n",
              "  </thead>\n",
              "  <tbody>\n",
              "    <tr>\n",
              "      <th>0</th>\n",
              "      <td>1</td>\n",
              "      <td>Toy Story (1995)</td>\n",
              "      <td>Adventure|Animation|Children|Comedy|Fantasy</td>\n",
              "    </tr>\n",
              "    <tr>\n",
              "      <th>1</th>\n",
              "      <td>2</td>\n",
              "      <td>Jumanji (1995)</td>\n",
              "      <td>Adventure|Children|Fantasy</td>\n",
              "    </tr>\n",
              "    <tr>\n",
              "      <th>2</th>\n",
              "      <td>3</td>\n",
              "      <td>Grumpier Old Men (1995)</td>\n",
              "      <td>Comedy|Romance</td>\n",
              "    </tr>\n",
              "    <tr>\n",
              "      <th>3</th>\n",
              "      <td>4</td>\n",
              "      <td>Waiting to Exhale (1995)</td>\n",
              "      <td>Comedy|Drama|Romance</td>\n",
              "    </tr>\n",
              "    <tr>\n",
              "      <th>4</th>\n",
              "      <td>5</td>\n",
              "      <td>Father of the Bride Part II (1995)</td>\n",
              "      <td>Comedy</td>\n",
              "    </tr>\n",
              "  </tbody>\n",
              "</table>\n",
              "</div>"
            ],
            "text/plain": [
              "   movieId                               title  \\\n",
              "0        1                    Toy Story (1995)   \n",
              "1        2                      Jumanji (1995)   \n",
              "2        3             Grumpier Old Men (1995)   \n",
              "3        4            Waiting to Exhale (1995)   \n",
              "4        5  Father of the Bride Part II (1995)   \n",
              "\n",
              "                                        genres  \n",
              "0  Adventure|Animation|Children|Comedy|Fantasy  \n",
              "1                   Adventure|Children|Fantasy  \n",
              "2                               Comedy|Romance  \n",
              "3                         Comedy|Drama|Romance  \n",
              "4                                       Comedy  "
            ]
          },
          "execution_count": 4,
          "metadata": {},
          "output_type": "execute_result"
        }
      ],
      "source": [
        "movies.head()"
      ]
    },
    {
      "cell_type": "code",
      "execution_count": 5,
      "metadata": {
        "colab": {
          "base_uri": "https://localhost:8080/",
          "height": 195
        },
        "id": "K82Avgs3pHAe",
        "outputId": "d7bffb58-6d9a-4083-9c8d-a2dfb4a7804a"
      },
      "outputs": [
        {
          "data": {
            "text/html": [
              "<div>\n",
              "<style scoped>\n",
              "    .dataframe tbody tr th:only-of-type {\n",
              "        vertical-align: middle;\n",
              "    }\n",
              "\n",
              "    .dataframe tbody tr th {\n",
              "        vertical-align: top;\n",
              "    }\n",
              "\n",
              "    .dataframe thead th {\n",
              "        text-align: right;\n",
              "    }\n",
              "</style>\n",
              "<table border=\"1\" class=\"dataframe\">\n",
              "  <thead>\n",
              "    <tr style=\"text-align: right;\">\n",
              "      <th></th>\n",
              "      <th>userId</th>\n",
              "      <th>movieId</th>\n",
              "      <th>rating</th>\n",
              "      <th>timestamp</th>\n",
              "    </tr>\n",
              "  </thead>\n",
              "  <tbody>\n",
              "    <tr>\n",
              "      <th>0</th>\n",
              "      <td>1</td>\n",
              "      <td>31</td>\n",
              "      <td>2.5</td>\n",
              "      <td>1260759144</td>\n",
              "    </tr>\n",
              "    <tr>\n",
              "      <th>1</th>\n",
              "      <td>1</td>\n",
              "      <td>1029</td>\n",
              "      <td>3.0</td>\n",
              "      <td>1260759179</td>\n",
              "    </tr>\n",
              "    <tr>\n",
              "      <th>2</th>\n",
              "      <td>1</td>\n",
              "      <td>1061</td>\n",
              "      <td>3.0</td>\n",
              "      <td>1260759182</td>\n",
              "    </tr>\n",
              "    <tr>\n",
              "      <th>3</th>\n",
              "      <td>1</td>\n",
              "      <td>1129</td>\n",
              "      <td>2.0</td>\n",
              "      <td>1260759185</td>\n",
              "    </tr>\n",
              "    <tr>\n",
              "      <th>4</th>\n",
              "      <td>1</td>\n",
              "      <td>1172</td>\n",
              "      <td>4.0</td>\n",
              "      <td>1260759205</td>\n",
              "    </tr>\n",
              "  </tbody>\n",
              "</table>\n",
              "</div>"
            ],
            "text/plain": [
              "   userId  movieId  rating   timestamp\n",
              "0       1       31     2.5  1260759144\n",
              "1       1     1029     3.0  1260759179\n",
              "2       1     1061     3.0  1260759182\n",
              "3       1     1129     2.0  1260759185\n",
              "4       1     1172     4.0  1260759205"
            ]
          },
          "execution_count": 5,
          "metadata": {},
          "output_type": "execute_result"
        }
      ],
      "source": [
        "ratings.head()"
      ]
    },
    {
      "cell_type": "code",
      "execution_count": 6,
      "metadata": {
        "id": "ZQqs1GQIpI2y"
      },
      "outputs": [],
      "source": [
        "movie_ratings = pd.merge(movies, ratings, left_on='movieId', right_on='movieId')"
      ]
    },
    {
      "cell_type": "code",
      "execution_count": 7,
      "metadata": {
        "colab": {
          "base_uri": "https://localhost:8080/",
          "height": 195
        },
        "id": "iXrDNF1UpWgF",
        "outputId": "9113a19b-fc63-450f-f06d-787e8f87a6a1"
      },
      "outputs": [
        {
          "data": {
            "text/html": [
              "<div>\n",
              "<style scoped>\n",
              "    .dataframe tbody tr th:only-of-type {\n",
              "        vertical-align: middle;\n",
              "    }\n",
              "\n",
              "    .dataframe tbody tr th {\n",
              "        vertical-align: top;\n",
              "    }\n",
              "\n",
              "    .dataframe thead th {\n",
              "        text-align: right;\n",
              "    }\n",
              "</style>\n",
              "<table border=\"1\" class=\"dataframe\">\n",
              "  <thead>\n",
              "    <tr style=\"text-align: right;\">\n",
              "      <th></th>\n",
              "      <th>movieId</th>\n",
              "      <th>title</th>\n",
              "      <th>genres</th>\n",
              "      <th>userId</th>\n",
              "      <th>rating</th>\n",
              "      <th>timestamp</th>\n",
              "    </tr>\n",
              "  </thead>\n",
              "  <tbody>\n",
              "    <tr>\n",
              "      <th>0</th>\n",
              "      <td>1</td>\n",
              "      <td>Toy Story (1995)</td>\n",
              "      <td>Adventure|Animation|Children|Comedy|Fantasy</td>\n",
              "      <td>7</td>\n",
              "      <td>3.0</td>\n",
              "      <td>851866703</td>\n",
              "    </tr>\n",
              "    <tr>\n",
              "      <th>1</th>\n",
              "      <td>1</td>\n",
              "      <td>Toy Story (1995)</td>\n",
              "      <td>Adventure|Animation|Children|Comedy|Fantasy</td>\n",
              "      <td>9</td>\n",
              "      <td>4.0</td>\n",
              "      <td>938629179</td>\n",
              "    </tr>\n",
              "    <tr>\n",
              "      <th>2</th>\n",
              "      <td>1</td>\n",
              "      <td>Toy Story (1995)</td>\n",
              "      <td>Adventure|Animation|Children|Comedy|Fantasy</td>\n",
              "      <td>13</td>\n",
              "      <td>5.0</td>\n",
              "      <td>1331380058</td>\n",
              "    </tr>\n",
              "    <tr>\n",
              "      <th>3</th>\n",
              "      <td>1</td>\n",
              "      <td>Toy Story (1995)</td>\n",
              "      <td>Adventure|Animation|Children|Comedy|Fantasy</td>\n",
              "      <td>15</td>\n",
              "      <td>2.0</td>\n",
              "      <td>997938310</td>\n",
              "    </tr>\n",
              "    <tr>\n",
              "      <th>4</th>\n",
              "      <td>1</td>\n",
              "      <td>Toy Story (1995)</td>\n",
              "      <td>Adventure|Animation|Children|Comedy|Fantasy</td>\n",
              "      <td>19</td>\n",
              "      <td>3.0</td>\n",
              "      <td>855190091</td>\n",
              "    </tr>\n",
              "  </tbody>\n",
              "</table>\n",
              "</div>"
            ],
            "text/plain": [
              "   movieId             title                                       genres  \\\n",
              "0        1  Toy Story (1995)  Adventure|Animation|Children|Comedy|Fantasy   \n",
              "1        1  Toy Story (1995)  Adventure|Animation|Children|Comedy|Fantasy   \n",
              "2        1  Toy Story (1995)  Adventure|Animation|Children|Comedy|Fantasy   \n",
              "3        1  Toy Story (1995)  Adventure|Animation|Children|Comedy|Fantasy   \n",
              "4        1  Toy Story (1995)  Adventure|Animation|Children|Comedy|Fantasy   \n",
              "\n",
              "   userId  rating   timestamp  \n",
              "0       7     3.0   851866703  \n",
              "1       9     4.0   938629179  \n",
              "2      13     5.0  1331380058  \n",
              "3      15     2.0   997938310  \n",
              "4      19     3.0   855190091  "
            ]
          },
          "execution_count": 7,
          "metadata": {},
          "output_type": "execute_result"
        }
      ],
      "source": [
        "movie_ratings.head()"
      ]
    },
    {
      "cell_type": "code",
      "execution_count": 8,
      "metadata": {
        "colab": {
          "base_uri": "https://localhost:8080/"
        },
        "id": "udf_2XkOpZ2L",
        "outputId": "c8467f36-72cb-46f6-be41-5669f1acf3f2"
      },
      "outputs": [
        {
          "data": {
            "text/plain": [
              "(9125, 3)"
            ]
          },
          "execution_count": 8,
          "metadata": {},
          "output_type": "execute_result"
        }
      ],
      "source": [
        "movies.shape"
      ]
    },
    {
      "cell_type": "code",
      "execution_count": 9,
      "metadata": {
        "colab": {
          "base_uri": "https://localhost:8080/"
        },
        "id": "90izVbp0pcO1",
        "outputId": "573cb08f-2020-4ed0-9bfc-b8c999e4b877"
      },
      "outputs": [
        {
          "data": {
            "text/plain": [
              "(100004, 4)"
            ]
          },
          "execution_count": 9,
          "metadata": {},
          "output_type": "execute_result"
        }
      ],
      "source": [
        "ratings.shape"
      ]
    },
    {
      "cell_type": "code",
      "execution_count": 10,
      "metadata": {
        "colab": {
          "base_uri": "https://localhost:8080/"
        },
        "id": "l8j8KQfwpeL4",
        "outputId": "a40a89ea-914d-43e2-9922-cdd66b27fa5f"
      },
      "outputs": [
        {
          "data": {
            "text/plain": [
              "(100004, 6)"
            ]
          },
          "execution_count": 10,
          "metadata": {},
          "output_type": "execute_result"
        }
      ],
      "source": [
        "movie_ratings.shape"
      ]
    },
    {
      "cell_type": "markdown",
      "metadata": {
        "id": "gvYbdqFuqC3s"
      },
      "source": [
        "데이터 분석\n",
        "\n",
        "*   영화별 평점수: min, max, median, mean\n",
        "*   가장 평점이 많은 영화 10개는?\n",
        "*   영화별 평점 평균: min, max, median, mean\n",
        "*   가장 평점이 높은 영화 10개는? (100개 이상 평점이 있는 영화중)\n",
        "\n"
      ]
    },
    {
      "cell_type": "code",
      "execution_count": 11,
      "metadata": {
        "colab": {
          "base_uri": "https://localhost:8080/"
        },
        "id": "_KvdXXgEpkYv",
        "outputId": "57fda143-3352-4fcc-cc69-ead032e49aa1"
      },
      "outputs": [
        {
          "data": {
            "text/plain": [
              "9066"
            ]
          },
          "execution_count": 11,
          "metadata": {},
          "output_type": "execute_result"
        }
      ],
      "source": [
        "movie_ratings[\"movieId\"].nunique()"
      ]
    },
    {
      "cell_type": "code",
      "execution_count": 12,
      "metadata": {
        "id": "Ogu009trrT5r"
      },
      "outputs": [],
      "source": [
        "movie_rating_summary = movie_ratings[[\"movieId\", \"rating\"]].groupby([\"movieId\"]).agg([\"count\", \"median\", \"mean\"])"
      ]
    },
    {
      "cell_type": "code",
      "execution_count": 13,
      "metadata": {
        "colab": {
          "base_uri": "https://localhost:8080/",
          "height": 254
        },
        "id": "6dHMObt1rg6-",
        "outputId": "6226b251-defa-4866-b420-5d9b8593f40d"
      },
      "outputs": [
        {
          "data": {
            "text/html": [
              "<div>\n",
              "<style scoped>\n",
              "    .dataframe tbody tr th:only-of-type {\n",
              "        vertical-align: middle;\n",
              "    }\n",
              "\n",
              "    .dataframe tbody tr th {\n",
              "        vertical-align: top;\n",
              "    }\n",
              "\n",
              "    .dataframe thead tr th {\n",
              "        text-align: left;\n",
              "    }\n",
              "\n",
              "    .dataframe thead tr:last-of-type th {\n",
              "        text-align: right;\n",
              "    }\n",
              "</style>\n",
              "<table border=\"1\" class=\"dataframe\">\n",
              "  <thead>\n",
              "    <tr>\n",
              "      <th></th>\n",
              "      <th colspan=\"3\" halign=\"left\">rating</th>\n",
              "    </tr>\n",
              "    <tr>\n",
              "      <th></th>\n",
              "      <th>count</th>\n",
              "      <th>median</th>\n",
              "      <th>mean</th>\n",
              "    </tr>\n",
              "    <tr>\n",
              "      <th>movieId</th>\n",
              "      <th></th>\n",
              "      <th></th>\n",
              "      <th></th>\n",
              "    </tr>\n",
              "  </thead>\n",
              "  <tbody>\n",
              "    <tr>\n",
              "      <th>1</th>\n",
              "      <td>247</td>\n",
              "      <td>4.0</td>\n",
              "      <td>3.872470</td>\n",
              "    </tr>\n",
              "    <tr>\n",
              "      <th>2</th>\n",
              "      <td>107</td>\n",
              "      <td>3.0</td>\n",
              "      <td>3.401869</td>\n",
              "    </tr>\n",
              "    <tr>\n",
              "      <th>3</th>\n",
              "      <td>59</td>\n",
              "      <td>3.0</td>\n",
              "      <td>3.161017</td>\n",
              "    </tr>\n",
              "    <tr>\n",
              "      <th>4</th>\n",
              "      <td>13</td>\n",
              "      <td>3.0</td>\n",
              "      <td>2.384615</td>\n",
              "    </tr>\n",
              "    <tr>\n",
              "      <th>5</th>\n",
              "      <td>56</td>\n",
              "      <td>3.0</td>\n",
              "      <td>3.267857</td>\n",
              "    </tr>\n",
              "  </tbody>\n",
              "</table>\n",
              "</div>"
            ],
            "text/plain": [
              "        rating                 \n",
              "         count median      mean\n",
              "movieId                        \n",
              "1          247    4.0  3.872470\n",
              "2          107    3.0  3.401869\n",
              "3           59    3.0  3.161017\n",
              "4           13    3.0  2.384615\n",
              "5           56    3.0  3.267857"
            ]
          },
          "execution_count": 13,
          "metadata": {},
          "output_type": "execute_result"
        }
      ],
      "source": [
        "movie_rating_summary.head()"
      ]
    },
    {
      "cell_type": "code",
      "execution_count": 14,
      "metadata": {
        "colab": {
          "base_uri": "https://localhost:8080/"
        },
        "id": "kB7TU_der9in",
        "outputId": "dd0a48ad-04fc-4acb-8c25-a19ea1f1fe2b"
      },
      "outputs": [
        {
          "data": {
            "text/plain": [
              "MultiIndex([('rating',  'count'),\n",
              "            ('rating', 'median'),\n",
              "            ('rating',   'mean')],\n",
              "           )"
            ]
          },
          "execution_count": 14,
          "metadata": {},
          "output_type": "execute_result"
        }
      ],
      "source": [
        "movie_rating_summary.columns"
      ]
    },
    {
      "cell_type": "code",
      "execution_count": 15,
      "metadata": {
        "id": "W3jXMRhKtIn4"
      },
      "outputs": [],
      "source": [
        "movie_rating_summary.columns = [\"count\", \"median\", \"mean\"]"
      ]
    },
    {
      "cell_type": "code",
      "execution_count": 16,
      "metadata": {
        "colab": {
          "base_uri": "https://localhost:8080/",
          "height": 373
        },
        "id": "GC70Vr6osj-4",
        "outputId": "926ff2f8-d24a-4d15-d5c0-fff0735bb898"
      },
      "outputs": [
        {
          "data": {
            "text/html": [
              "<div>\n",
              "<style scoped>\n",
              "    .dataframe tbody tr th:only-of-type {\n",
              "        vertical-align: middle;\n",
              "    }\n",
              "\n",
              "    .dataframe tbody tr th {\n",
              "        vertical-align: top;\n",
              "    }\n",
              "\n",
              "    .dataframe thead th {\n",
              "        text-align: right;\n",
              "    }\n",
              "</style>\n",
              "<table border=\"1\" class=\"dataframe\">\n",
              "  <thead>\n",
              "    <tr style=\"text-align: right;\">\n",
              "      <th></th>\n",
              "      <th>count</th>\n",
              "      <th>median</th>\n",
              "      <th>mean</th>\n",
              "    </tr>\n",
              "    <tr>\n",
              "      <th>movieId</th>\n",
              "      <th></th>\n",
              "      <th></th>\n",
              "      <th></th>\n",
              "    </tr>\n",
              "  </thead>\n",
              "  <tbody>\n",
              "    <tr>\n",
              "      <th>356</th>\n",
              "      <td>341</td>\n",
              "      <td>4.0</td>\n",
              "      <td>4.054252</td>\n",
              "    </tr>\n",
              "    <tr>\n",
              "      <th>296</th>\n",
              "      <td>324</td>\n",
              "      <td>4.5</td>\n",
              "      <td>4.256173</td>\n",
              "    </tr>\n",
              "    <tr>\n",
              "      <th>318</th>\n",
              "      <td>311</td>\n",
              "      <td>5.0</td>\n",
              "      <td>4.487138</td>\n",
              "    </tr>\n",
              "    <tr>\n",
              "      <th>593</th>\n",
              "      <td>304</td>\n",
              "      <td>4.0</td>\n",
              "      <td>4.138158</td>\n",
              "    </tr>\n",
              "    <tr>\n",
              "      <th>260</th>\n",
              "      <td>291</td>\n",
              "      <td>4.5</td>\n",
              "      <td>4.221649</td>\n",
              "    </tr>\n",
              "    <tr>\n",
              "      <th>480</th>\n",
              "      <td>274</td>\n",
              "      <td>4.0</td>\n",
              "      <td>3.706204</td>\n",
              "    </tr>\n",
              "    <tr>\n",
              "      <th>2571</th>\n",
              "      <td>259</td>\n",
              "      <td>4.5</td>\n",
              "      <td>4.183398</td>\n",
              "    </tr>\n",
              "    <tr>\n",
              "      <th>1</th>\n",
              "      <td>247</td>\n",
              "      <td>4.0</td>\n",
              "      <td>3.872470</td>\n",
              "    </tr>\n",
              "    <tr>\n",
              "      <th>527</th>\n",
              "      <td>244</td>\n",
              "      <td>4.5</td>\n",
              "      <td>4.303279</td>\n",
              "    </tr>\n",
              "    <tr>\n",
              "      <th>589</th>\n",
              "      <td>237</td>\n",
              "      <td>4.0</td>\n",
              "      <td>4.006329</td>\n",
              "    </tr>\n",
              "  </tbody>\n",
              "</table>\n",
              "</div>"
            ],
            "text/plain": [
              "         count  median      mean\n",
              "movieId                         \n",
              "356        341     4.0  4.054252\n",
              "296        324     4.5  4.256173\n",
              "318        311     5.0  4.487138\n",
              "593        304     4.0  4.138158\n",
              "260        291     4.5  4.221649\n",
              "480        274     4.0  3.706204\n",
              "2571       259     4.5  4.183398\n",
              "1          247     4.0  3.872470\n",
              "527        244     4.5  4.303279\n",
              "589        237     4.0  4.006329"
            ]
          },
          "execution_count": 16,
          "metadata": {},
          "output_type": "execute_result"
        }
      ],
      "source": [
        "movie_rating_summary.sort_values(\"count\", ascending=False).head(10)"
      ]
    },
    {
      "cell_type": "code",
      "execution_count": 17,
      "metadata": {
        "colab": {
          "base_uri": "https://localhost:8080/",
          "height": 373
        },
        "id": "N3Unz16vswiQ",
        "outputId": "2b8fdf6c-6665-4139-944a-97be72f1395c"
      },
      "outputs": [
        {
          "data": {
            "text/html": [
              "<div>\n",
              "<style scoped>\n",
              "    .dataframe tbody tr th:only-of-type {\n",
              "        vertical-align: middle;\n",
              "    }\n",
              "\n",
              "    .dataframe tbody tr th {\n",
              "        vertical-align: top;\n",
              "    }\n",
              "\n",
              "    .dataframe thead th {\n",
              "        text-align: right;\n",
              "    }\n",
              "</style>\n",
              "<table border=\"1\" class=\"dataframe\">\n",
              "  <thead>\n",
              "    <tr style=\"text-align: right;\">\n",
              "      <th></th>\n",
              "      <th>count</th>\n",
              "      <th>median</th>\n",
              "      <th>mean</th>\n",
              "    </tr>\n",
              "    <tr>\n",
              "      <th>movieId</th>\n",
              "      <th></th>\n",
              "      <th></th>\n",
              "      <th></th>\n",
              "    </tr>\n",
              "  </thead>\n",
              "  <tbody>\n",
              "    <tr>\n",
              "      <th>163949</th>\n",
              "      <td>1</td>\n",
              "      <td>5.0</td>\n",
              "      <td>5.0</td>\n",
              "    </tr>\n",
              "    <tr>\n",
              "      <th>71180</th>\n",
              "      <td>1</td>\n",
              "      <td>5.0</td>\n",
              "      <td>5.0</td>\n",
              "    </tr>\n",
              "    <tr>\n",
              "      <th>51471</th>\n",
              "      <td>1</td>\n",
              "      <td>5.0</td>\n",
              "      <td>5.0</td>\n",
              "    </tr>\n",
              "    <tr>\n",
              "      <th>52617</th>\n",
              "      <td>1</td>\n",
              "      <td>5.0</td>\n",
              "      <td>5.0</td>\n",
              "    </tr>\n",
              "    <tr>\n",
              "      <th>53887</th>\n",
              "      <td>1</td>\n",
              "      <td>5.0</td>\n",
              "      <td>5.0</td>\n",
              "    </tr>\n",
              "    <tr>\n",
              "      <th>54251</th>\n",
              "      <td>1</td>\n",
              "      <td>5.0</td>\n",
              "      <td>5.0</td>\n",
              "    </tr>\n",
              "    <tr>\n",
              "      <th>54328</th>\n",
              "      <td>1</td>\n",
              "      <td>5.0</td>\n",
              "      <td>5.0</td>\n",
              "    </tr>\n",
              "    <tr>\n",
              "      <th>55555</th>\n",
              "      <td>1</td>\n",
              "      <td>5.0</td>\n",
              "      <td>5.0</td>\n",
              "    </tr>\n",
              "    <tr>\n",
              "      <th>56869</th>\n",
              "      <td>1</td>\n",
              "      <td>5.0</td>\n",
              "      <td>5.0</td>\n",
              "    </tr>\n",
              "    <tr>\n",
              "      <th>57038</th>\n",
              "      <td>1</td>\n",
              "      <td>5.0</td>\n",
              "      <td>5.0</td>\n",
              "    </tr>\n",
              "  </tbody>\n",
              "</table>\n",
              "</div>"
            ],
            "text/plain": [
              "         count  median  mean\n",
              "movieId                     \n",
              "163949       1     5.0   5.0\n",
              "71180        1     5.0   5.0\n",
              "51471        1     5.0   5.0\n",
              "52617        1     5.0   5.0\n",
              "53887        1     5.0   5.0\n",
              "54251        1     5.0   5.0\n",
              "54328        1     5.0   5.0\n",
              "55555        1     5.0   5.0\n",
              "56869        1     5.0   5.0\n",
              "57038        1     5.0   5.0"
            ]
          },
          "execution_count": 17,
          "metadata": {},
          "output_type": "execute_result"
        }
      ],
      "source": [
        "movie_rating_summary.sort_values(\"mean\", ascending=False).head(10)"
      ]
    },
    {
      "cell_type": "code",
      "execution_count": 18,
      "metadata": {
        "colab": {
          "base_uri": "https://localhost:8080/",
          "height": 373
        },
        "id": "hGtlvkOltTug",
        "outputId": "2cd58a68-af9c-45e8-e7cb-c08e20e238fa"
      },
      "outputs": [
        {
          "data": {
            "text/html": [
              "<div>\n",
              "<style scoped>\n",
              "    .dataframe tbody tr th:only-of-type {\n",
              "        vertical-align: middle;\n",
              "    }\n",
              "\n",
              "    .dataframe tbody tr th {\n",
              "        vertical-align: top;\n",
              "    }\n",
              "\n",
              "    .dataframe thead th {\n",
              "        text-align: right;\n",
              "    }\n",
              "</style>\n",
              "<table border=\"1\" class=\"dataframe\">\n",
              "  <thead>\n",
              "    <tr style=\"text-align: right;\">\n",
              "      <th></th>\n",
              "      <th>count</th>\n",
              "      <th>median</th>\n",
              "      <th>mean</th>\n",
              "    </tr>\n",
              "    <tr>\n",
              "      <th>movieId</th>\n",
              "      <th></th>\n",
              "      <th></th>\n",
              "      <th></th>\n",
              "    </tr>\n",
              "  </thead>\n",
              "  <tbody>\n",
              "    <tr>\n",
              "      <th>858</th>\n",
              "      <td>200</td>\n",
              "      <td>5.00</td>\n",
              "      <td>4.487500</td>\n",
              "    </tr>\n",
              "    <tr>\n",
              "      <th>318</th>\n",
              "      <td>311</td>\n",
              "      <td>5.00</td>\n",
              "      <td>4.487138</td>\n",
              "    </tr>\n",
              "    <tr>\n",
              "      <th>1221</th>\n",
              "      <td>135</td>\n",
              "      <td>5.00</td>\n",
              "      <td>4.385185</td>\n",
              "    </tr>\n",
              "    <tr>\n",
              "      <th>50</th>\n",
              "      <td>201</td>\n",
              "      <td>4.50</td>\n",
              "      <td>4.370647</td>\n",
              "    </tr>\n",
              "    <tr>\n",
              "      <th>527</th>\n",
              "      <td>244</td>\n",
              "      <td>4.50</td>\n",
              "      <td>4.303279</td>\n",
              "    </tr>\n",
              "    <tr>\n",
              "      <th>1193</th>\n",
              "      <td>144</td>\n",
              "      <td>4.50</td>\n",
              "      <td>4.256944</td>\n",
              "    </tr>\n",
              "    <tr>\n",
              "      <th>608</th>\n",
              "      <td>224</td>\n",
              "      <td>4.50</td>\n",
              "      <td>4.256696</td>\n",
              "    </tr>\n",
              "    <tr>\n",
              "      <th>296</th>\n",
              "      <td>324</td>\n",
              "      <td>4.50</td>\n",
              "      <td>4.256173</td>\n",
              "    </tr>\n",
              "    <tr>\n",
              "      <th>2858</th>\n",
              "      <td>220</td>\n",
              "      <td>4.25</td>\n",
              "      <td>4.236364</td>\n",
              "    </tr>\n",
              "    <tr>\n",
              "      <th>58559</th>\n",
              "      <td>121</td>\n",
              "      <td>4.50</td>\n",
              "      <td>4.235537</td>\n",
              "    </tr>\n",
              "  </tbody>\n",
              "</table>\n",
              "</div>"
            ],
            "text/plain": [
              "         count  median      mean\n",
              "movieId                         \n",
              "858        200    5.00  4.487500\n",
              "318        311    5.00  4.487138\n",
              "1221       135    5.00  4.385185\n",
              "50         201    4.50  4.370647\n",
              "527        244    4.50  4.303279\n",
              "1193       144    4.50  4.256944\n",
              "608        224    4.50  4.256696\n",
              "296        324    4.50  4.256173\n",
              "2858       220    4.25  4.236364\n",
              "58559      121    4.50  4.235537"
            ]
          },
          "execution_count": 18,
          "metadata": {},
          "output_type": "execute_result"
        }
      ],
      "source": [
        "movie_rating_summary[movie_rating_summary[\"count\"] > 100].sort_values(\"mean\", ascending=False).head(10)"
      ]
    },
    {
      "cell_type": "code",
      "execution_count": 19,
      "metadata": {
        "colab": {
          "base_uri": "https://localhost:8080/",
          "height": 567
        },
        "id": "n9jnr3U0ta9T",
        "outputId": "89e18bf2-a697-4bb5-9ad8-86503116e72f"
      },
      "outputs": [
        {
          "name": "stderr",
          "output_type": "stream",
          "text": [
            "C:\\Users\\gka06\\AppData\\Local\\Temp\\ipykernel_32612\\43935088.py:5: UserWarning: \n",
            "\n",
            "`distplot` is a deprecated function and will be removed in seaborn v0.14.0.\n",
            "\n",
            "Please adapt your code to use either `displot` (a figure-level function with\n",
            "similar flexibility) or `histplot` (an axes-level function for histograms).\n",
            "\n",
            "For a guide to updating your code to use the new functions, please see\n",
            "https://gist.github.com/mwaskom/de44147ed2974457ad6372750bbe5751\n",
            "\n",
            "  sns.distplot(a=movie_rating_summary['mean'], kde=True, color='r')\n"
          ]
        },
        {
          "data": {
            "text/plain": [
              "<Axes: xlabel='mean', ylabel='Density'>"
            ]
          },
          "execution_count": 19,
          "metadata": {},
          "output_type": "execute_result"
        },
        {
          "data": {
            "image/png": "[encoded data removed]",
            "text/plain": [
              "<Figure size 1600x800 with 1 Axes>"
            ]
          },
          "metadata": {},
          "output_type": "display_data"
        }
      ],
      "source": [
        "import seaborn as sns\n",
        "import matplotlib.pyplot as plt\n",
        "\n",
        "plt.figure(figsize=(16,8))\n",
        "sns.distplot(a=movie_rating_summary['mean'], kde=True, color='r')"
      ]
    },
    {
      "cell_type": "code",
      "execution_count": 20,
      "metadata": {
        "colab": {
          "base_uri": "https://localhost:8080/",
          "height": 350
        },
        "id": "7KtT0h1ot-tY",
        "outputId": "0a34c489-498b-42a8-93be-170acf339779"
      },
      "outputs": [
        {
          "name": "stderr",
          "output_type": "stream",
          "text": [
            "C:\\Users\\gka06\\AppData\\Local\\Temp\\ipykernel_32612\\2922949232.py:1: UserWarning: \n",
            "\n",
            "`distplot` is a deprecated function and will be removed in seaborn v0.14.0.\n",
            "\n",
            "Please adapt your code to use either `displot` (a figure-level function with\n",
            "similar flexibility) or `histplot` (an axes-level function for histograms).\n",
            "\n",
            "For a guide to updating your code to use the new functions, please see\n",
            "https://gist.github.com/mwaskom/de44147ed2974457ad6372750bbe5751\n",
            "\n",
            "  sns.distplot(a=movie_rating_summary['count'], color='g')\n"
          ]
        },
        {
          "data": {
            "text/plain": [
              "<Axes: xlabel='count', ylabel='Density'>"
            ]
          },
          "execution_count": 20,
          "metadata": {},
          "output_type": "execute_result"
        },
        {
          "data": {
            "image/png": "[encoded data removed]",
            "text/plain": [
              "<Figure size 640x480 with 1 Axes>"
            ]
          },
          "metadata": {},
          "output_type": "display_data"
        }
      ],
      "source": [
        "sns.distplot(a=movie_rating_summary['count'], color='g')"
      ]
    },
    {
      "cell_type": "code",
      "execution_count": 21,
      "metadata": {
        "colab": {
          "base_uri": "https://localhost:8080/"
        },
        "id": "Qgqvhe7ju28o",
        "outputId": "6198ec8b-53ac-44d7-999c-5effa7d47e6f"
      },
      "outputs": [
        {
          "data": {
            "text/plain": [
              "671"
            ]
          },
          "execution_count": 21,
          "metadata": {},
          "output_type": "execute_result"
        }
      ],
      "source": [
        "movie_ratings[\"userId\"].nunique()"
      ]
    },
    {
      "cell_type": "code",
      "execution_count": 22,
      "metadata": {
        "id": "ThSh00GOu4LN"
      },
      "outputs": [],
      "source": [
        "user_rating_summary = movie_ratings[[\"userId\", \"rating\"]].groupby([\"userId\"]).agg([\"count\", \"median\", \"mean\"])"
      ]
    },
    {
      "cell_type": "code",
      "execution_count": 23,
      "metadata": {
        "colab": {
          "base_uri": "https://localhost:8080/",
          "height": 254
        },
        "id": "3cl7PSuwvCUh",
        "outputId": "0f6de17f-0e15-41ca-8bce-2d230911dafc"
      },
      "outputs": [
        {
          "data": {
            "text/html": [
              "<div>\n",
              "<style scoped>\n",
              "    .dataframe tbody tr th:only-of-type {\n",
              "        vertical-align: middle;\n",
              "    }\n",
              "\n",
              "    .dataframe tbody tr th {\n",
              "        vertical-align: top;\n",
              "    }\n",
              "\n",
              "    .dataframe thead tr th {\n",
              "        text-align: left;\n",
              "    }\n",
              "\n",
              "    .dataframe thead tr:last-of-type th {\n",
              "        text-align: right;\n",
              "    }\n",
              "</style>\n",
              "<table border=\"1\" class=\"dataframe\">\n",
              "  <thead>\n",
              "    <tr>\n",
              "      <th></th>\n",
              "      <th colspan=\"3\" halign=\"left\">rating</th>\n",
              "    </tr>\n",
              "    <tr>\n",
              "      <th></th>\n",
              "      <th>count</th>\n",
              "      <th>median</th>\n",
              "      <th>mean</th>\n",
              "    </tr>\n",
              "    <tr>\n",
              "      <th>userId</th>\n",
              "      <th></th>\n",
              "      <th></th>\n",
              "      <th></th>\n",
              "    </tr>\n",
              "  </thead>\n",
              "  <tbody>\n",
              "    <tr>\n",
              "      <th>1</th>\n",
              "      <td>20</td>\n",
              "      <td>2.5</td>\n",
              "      <td>2.550000</td>\n",
              "    </tr>\n",
              "    <tr>\n",
              "      <th>2</th>\n",
              "      <td>76</td>\n",
              "      <td>3.0</td>\n",
              "      <td>3.486842</td>\n",
              "    </tr>\n",
              "    <tr>\n",
              "      <th>3</th>\n",
              "      <td>51</td>\n",
              "      <td>3.5</td>\n",
              "      <td>3.568627</td>\n",
              "    </tr>\n",
              "    <tr>\n",
              "      <th>4</th>\n",
              "      <td>204</td>\n",
              "      <td>5.0</td>\n",
              "      <td>4.348039</td>\n",
              "    </tr>\n",
              "    <tr>\n",
              "      <th>5</th>\n",
              "      <td>100</td>\n",
              "      <td>4.0</td>\n",
              "      <td>3.910000</td>\n",
              "    </tr>\n",
              "  </tbody>\n",
              "</table>\n",
              "</div>"
            ],
            "text/plain": [
              "       rating                 \n",
              "        count median      mean\n",
              "userId                        \n",
              "1          20    2.5  2.550000\n",
              "2          76    3.0  3.486842\n",
              "3          51    3.5  3.568627\n",
              "4         204    5.0  4.348039\n",
              "5         100    4.0  3.910000"
            ]
          },
          "execution_count": 23,
          "metadata": {},
          "output_type": "execute_result"
        }
      ],
      "source": [
        "user_rating_summary.head()"
      ]
    },
    {
      "cell_type": "code",
      "execution_count": 24,
      "metadata": {
        "id": "0K7Ya-aYvH-q"
      },
      "outputs": [],
      "source": [
        "user_rating_summary.columns = [\"count\", \"median\", \"mean\"]"
      ]
    },
    {
      "cell_type": "code",
      "execution_count": 25,
      "metadata": {
        "colab": {
          "base_uri": "https://localhost:8080/",
          "height": 373
        },
        "id": "NT660eCjvLMU",
        "outputId": "9a956f1b-7f26-4135-e00b-abc93428047e"
      },
      "outputs": [
        {
          "data": {
            "text/html": [
              "<div>\n",
              "<style scoped>\n",
              "    .dataframe tbody tr th:only-of-type {\n",
              "        vertical-align: middle;\n",
              "    }\n",
              "\n",
              "    .dataframe tbody tr th {\n",
              "        vertical-align: top;\n",
              "    }\n",
              "\n",
              "    .dataframe thead th {\n",
              "        text-align: right;\n",
              "    }\n",
              "</style>\n",
              "<table border=\"1\" class=\"dataframe\">\n",
              "  <thead>\n",
              "    <tr style=\"text-align: right;\">\n",
              "      <th></th>\n",
              "      <th>count</th>\n",
              "      <th>median</th>\n",
              "      <th>mean</th>\n",
              "    </tr>\n",
              "    <tr>\n",
              "      <th>userId</th>\n",
              "      <th></th>\n",
              "      <th></th>\n",
              "      <th></th>\n",
              "    </tr>\n",
              "  </thead>\n",
              "  <tbody>\n",
              "    <tr>\n",
              "      <th>547</th>\n",
              "      <td>2391</td>\n",
              "      <td>3.5</td>\n",
              "      <td>3.366792</td>\n",
              "    </tr>\n",
              "    <tr>\n",
              "      <th>564</th>\n",
              "      <td>1868</td>\n",
              "      <td>4.0</td>\n",
              "      <td>3.552463</td>\n",
              "    </tr>\n",
              "    <tr>\n",
              "      <th>624</th>\n",
              "      <td>1735</td>\n",
              "      <td>3.0</td>\n",
              "      <td>2.894236</td>\n",
              "    </tr>\n",
              "    <tr>\n",
              "      <th>15</th>\n",
              "      <td>1700</td>\n",
              "      <td>3.0</td>\n",
              "      <td>2.621765</td>\n",
              "    </tr>\n",
              "    <tr>\n",
              "      <th>73</th>\n",
              "      <td>1610</td>\n",
              "      <td>3.5</td>\n",
              "      <td>3.374224</td>\n",
              "    </tr>\n",
              "    <tr>\n",
              "      <th>452</th>\n",
              "      <td>1340</td>\n",
              "      <td>3.0</td>\n",
              "      <td>3.189179</td>\n",
              "    </tr>\n",
              "    <tr>\n",
              "      <th>468</th>\n",
              "      <td>1291</td>\n",
              "      <td>3.0</td>\n",
              "      <td>2.965918</td>\n",
              "    </tr>\n",
              "    <tr>\n",
              "      <th>380</th>\n",
              "      <td>1063</td>\n",
              "      <td>3.5</td>\n",
              "      <td>3.366416</td>\n",
              "    </tr>\n",
              "    <tr>\n",
              "      <th>311</th>\n",
              "      <td>1019</td>\n",
              "      <td>3.0</td>\n",
              "      <td>3.006379</td>\n",
              "    </tr>\n",
              "    <tr>\n",
              "      <th>30</th>\n",
              "      <td>1011</td>\n",
              "      <td>4.0</td>\n",
              "      <td>3.765084</td>\n",
              "    </tr>\n",
              "  </tbody>\n",
              "</table>\n",
              "</div>"
            ],
            "text/plain": [
              "        count  median      mean\n",
              "userId                         \n",
              "547      2391     3.5  3.366792\n",
              "564      1868     4.0  3.552463\n",
              "624      1735     3.0  2.894236\n",
              "15       1700     3.0  2.621765\n",
              "73       1610     3.5  3.374224\n",
              "452      1340     3.0  3.189179\n",
              "468      1291     3.0  2.965918\n",
              "380      1063     3.5  3.366416\n",
              "311      1019     3.0  3.006379\n",
              "30       1011     4.0  3.765084"
            ]
          },
          "execution_count": 25,
          "metadata": {},
          "output_type": "execute_result"
        }
      ],
      "source": [
        "user_rating_summary.sort_values(\"count\", ascending=False).head(10)"
      ]
    },
    {
      "cell_type": "code",
      "execution_count": 26,
      "metadata": {
        "colab": {
          "base_uri": "https://localhost:8080/",
          "height": 373
        },
        "id": "fHL_mm8yvQQT",
        "outputId": "599c6cbc-b242-4aba-8fe7-22a49c1aa382"
      },
      "outputs": [
        {
          "data": {
            "text/html": [
              "<div>\n",
              "<style scoped>\n",
              "    .dataframe tbody tr th:only-of-type {\n",
              "        vertical-align: middle;\n",
              "    }\n",
              "\n",
              "    .dataframe tbody tr th {\n",
              "        vertical-align: top;\n",
              "    }\n",
              "\n",
              "    .dataframe thead th {\n",
              "        text-align: right;\n",
              "    }\n",
              "</style>\n",
              "<table border=\"1\" class=\"dataframe\">\n",
              "  <thead>\n",
              "    <tr style=\"text-align: right;\">\n",
              "      <th></th>\n",
              "      <th>count</th>\n",
              "      <th>median</th>\n",
              "      <th>mean</th>\n",
              "    </tr>\n",
              "    <tr>\n",
              "      <th>userId</th>\n",
              "      <th></th>\n",
              "      <th></th>\n",
              "      <th></th>\n",
              "    </tr>\n",
              "  </thead>\n",
              "  <tbody>\n",
              "    <tr>\n",
              "      <th>230</th>\n",
              "      <td>94</td>\n",
              "      <td>5.0</td>\n",
              "      <td>4.473404</td>\n",
              "    </tr>\n",
              "    <tr>\n",
              "      <th>432</th>\n",
              "      <td>62</td>\n",
              "      <td>5.0</td>\n",
              "      <td>4.411290</td>\n",
              "    </tr>\n",
              "    <tr>\n",
              "      <th>622</th>\n",
              "      <td>31</td>\n",
              "      <td>5.0</td>\n",
              "      <td>4.725806</td>\n",
              "    </tr>\n",
              "    <tr>\n",
              "      <th>499</th>\n",
              "      <td>33</td>\n",
              "      <td>5.0</td>\n",
              "      <td>4.272727</td>\n",
              "    </tr>\n",
              "    <tr>\n",
              "      <th>145</th>\n",
              "      <td>38</td>\n",
              "      <td>5.0</td>\n",
              "      <td>4.500000</td>\n",
              "    </tr>\n",
              "    <tr>\n",
              "      <th>559</th>\n",
              "      <td>129</td>\n",
              "      <td>5.0</td>\n",
              "      <td>4.418605</td>\n",
              "    </tr>\n",
              "    <tr>\n",
              "      <th>473</th>\n",
              "      <td>76</td>\n",
              "      <td>5.0</td>\n",
              "      <td>4.315789</td>\n",
              "    </tr>\n",
              "    <tr>\n",
              "      <th>28</th>\n",
              "      <td>50</td>\n",
              "      <td>5.0</td>\n",
              "      <td>4.280000</td>\n",
              "    </tr>\n",
              "    <tr>\n",
              "      <th>556</th>\n",
              "      <td>25</td>\n",
              "      <td>5.0</td>\n",
              "      <td>4.400000</td>\n",
              "    </tr>\n",
              "    <tr>\n",
              "      <th>242</th>\n",
              "      <td>399</td>\n",
              "      <td>5.0</td>\n",
              "      <td>4.466165</td>\n",
              "    </tr>\n",
              "  </tbody>\n",
              "</table>\n",
              "</div>"
            ],
            "text/plain": [
              "        count  median      mean\n",
              "userId                         \n",
              "230        94     5.0  4.473404\n",
              "432        62     5.0  4.411290\n",
              "622        31     5.0  4.725806\n",
              "499        33     5.0  4.272727\n",
              "145        38     5.0  4.500000\n",
              "559       129     5.0  4.418605\n",
              "473        76     5.0  4.315789\n",
              "28         50     5.0  4.280000\n",
              "556        25     5.0  4.400000\n",
              "242       399     5.0  4.466165"
            ]
          },
          "execution_count": 26,
          "metadata": {},
          "output_type": "execute_result"
        }
      ],
      "source": [
        "user_rating_summary.sort_values(\"median\", ascending=False).head(10)"
      ]
    },
    {
      "cell_type": "code",
      "execution_count": 27,
      "metadata": {
        "colab": {
          "base_uri": "https://localhost:8080/",
          "height": 373
        },
        "id": "GBvnP12BvTnP",
        "outputId": "3399cc38-ced7-4ea4-8767-ee0e82a11dd9"
      },
      "outputs": [
        {
          "data": {
            "text/html": [
              "<div>\n",
              "<style scoped>\n",
              "    .dataframe tbody tr th:only-of-type {\n",
              "        vertical-align: middle;\n",
              "    }\n",
              "\n",
              "    .dataframe tbody tr th {\n",
              "        vertical-align: top;\n",
              "    }\n",
              "\n",
              "    .dataframe thead th {\n",
              "        text-align: right;\n",
              "    }\n",
              "</style>\n",
              "<table border=\"1\" class=\"dataframe\">\n",
              "  <thead>\n",
              "    <tr style=\"text-align: right;\">\n",
              "      <th></th>\n",
              "      <th>count</th>\n",
              "      <th>median</th>\n",
              "      <th>mean</th>\n",
              "    </tr>\n",
              "    <tr>\n",
              "      <th>userId</th>\n",
              "      <th></th>\n",
              "      <th></th>\n",
              "      <th></th>\n",
              "    </tr>\n",
              "  </thead>\n",
              "  <tbody>\n",
              "    <tr>\n",
              "      <th>207</th>\n",
              "      <td>46</td>\n",
              "      <td>0.50</td>\n",
              "      <td>1.804348</td>\n",
              "    </tr>\n",
              "    <tr>\n",
              "      <th>581</th>\n",
              "      <td>49</td>\n",
              "      <td>0.50</td>\n",
              "      <td>1.459184</td>\n",
              "    </tr>\n",
              "    <tr>\n",
              "      <th>579</th>\n",
              "      <td>21</td>\n",
              "      <td>0.50</td>\n",
              "      <td>1.333333</td>\n",
              "    </tr>\n",
              "    <tr>\n",
              "      <th>609</th>\n",
              "      <td>140</td>\n",
              "      <td>1.00</td>\n",
              "      <td>1.985714</td>\n",
              "    </tr>\n",
              "    <tr>\n",
              "      <th>429</th>\n",
              "      <td>27</td>\n",
              "      <td>2.00</td>\n",
              "      <td>2.240741</td>\n",
              "    </tr>\n",
              "    <tr>\n",
              "      <th>315</th>\n",
              "      <td>55</td>\n",
              "      <td>2.00</td>\n",
              "      <td>2.454545</td>\n",
              "    </tr>\n",
              "    <tr>\n",
              "      <th>325</th>\n",
              "      <td>20</td>\n",
              "      <td>2.00</td>\n",
              "      <td>2.525000</td>\n",
              "    </tr>\n",
              "    <tr>\n",
              "      <th>35</th>\n",
              "      <td>20</td>\n",
              "      <td>2.25</td>\n",
              "      <td>2.400000</td>\n",
              "    </tr>\n",
              "    <tr>\n",
              "      <th>79</th>\n",
              "      <td>55</td>\n",
              "      <td>2.50</td>\n",
              "      <td>2.518182</td>\n",
              "    </tr>\n",
              "    <tr>\n",
              "      <th>210</th>\n",
              "      <td>32</td>\n",
              "      <td>2.50</td>\n",
              "      <td>2.953125</td>\n",
              "    </tr>\n",
              "  </tbody>\n",
              "</table>\n",
              "</div>"
            ],
            "text/plain": [
              "        count  median      mean\n",
              "userId                         \n",
              "207        46    0.50  1.804348\n",
              "581        49    0.50  1.459184\n",
              "579        21    0.50  1.333333\n",
              "609       140    1.00  1.985714\n",
              "429        27    2.00  2.240741\n",
              "315        55    2.00  2.454545\n",
              "325        20    2.00  2.525000\n",
              "35         20    2.25  2.400000\n",
              "79         55    2.50  2.518182\n",
              "210        32    2.50  2.953125"
            ]
          },
          "execution_count": 27,
          "metadata": {},
          "output_type": "execute_result"
        }
      ],
      "source": [
        "user_rating_summary.sort_values(\"median\", ascending=True).head(10)"
      ]
    },
    {
      "cell_type": "code",
      "execution_count": 28,
      "metadata": {
        "colab": {
          "base_uri": "https://localhost:8080/",
          "height": 350
        },
        "id": "mmEgkNDUvdHk",
        "outputId": "c200e72b-dd8d-48ec-e2e8-18f17e073229"
      },
      "outputs": [
        {
          "name": "stderr",
          "output_type": "stream",
          "text": [
            "C:\\Users\\gka06\\AppData\\Local\\Temp\\ipykernel_32612\\816334758.py:1: UserWarning: \n",
            "\n",
            "`distplot` is a deprecated function and will be removed in seaborn v0.14.0.\n",
            "\n",
            "Please adapt your code to use either `displot` (a figure-level function with\n",
            "similar flexibility) or `histplot` (an axes-level function for histograms).\n",
            "\n",
            "For a guide to updating your code to use the new functions, please see\n",
            "https://gist.github.com/mwaskom/de44147ed2974457ad6372750bbe5751\n",
            "\n",
            "  sns.distplot(a=user_rating_summary['mean'], kde=True, color='r')\n"
          ]
        },
        {
          "data": {
            "text/plain": [
              "<Axes: xlabel='mean', ylabel='Density'>"
            ]
          },
          "execution_count": 28,
          "metadata": {},
          "output_type": "execute_result"
        },
        {
          "data": {
            "image/png": "[encoded data removed]",
            "text/plain": [
              "<Figure size 640x480 with 1 Axes>"
            ]
          },
          "metadata": {},
          "output_type": "display_data"
        }
      ],
      "source": [
        "sns.distplot(a=user_rating_summary['mean'], kde=True, color='r')"
      ]
    },
    {
      "cell_type": "code",
      "execution_count": 29,
      "metadata": {
        "colab": {
          "base_uri": "https://localhost:8080/",
          "height": 350
        },
        "id": "S-6SA_rxvjJn",
        "outputId": "98151a80-4ee8-415a-97ec-682081c02d77"
      },
      "outputs": [
        {
          "name": "stderr",
          "output_type": "stream",
          "text": [
            "C:\\Users\\gka06\\AppData\\Local\\Temp\\ipykernel_32612\\2208334410.py:1: UserWarning: \n",
            "\n",
            "`distplot` is a deprecated function and will be removed in seaborn v0.14.0.\n",
            "\n",
            "Please adapt your code to use either `displot` (a figure-level function with\n",
            "similar flexibility) or `histplot` (an axes-level function for histograms).\n",
            "\n",
            "For a guide to updating your code to use the new functions, please see\n",
            "https://gist.github.com/mwaskom/de44147ed2974457ad6372750bbe5751\n",
            "\n",
            "  sns.distplot(a=user_rating_summary['count'], kde=True, color='r')\n"
          ]
        },
        {
          "data": {
            "text/plain": [
              "<Axes: xlabel='count', ylabel='Density'>"
            ]
          },
          "execution_count": 29,
          "metadata": {},
          "output_type": "execute_result"
        },
        {
          "data": {
            "image/png": "[encoded data removed]",
            "text/plain": [
              "<Figure size 640x480 with 1 Axes>"
            ]
          },
          "metadata": {},
          "output_type": "display_data"
        }
      ],
      "source": [
        "sns.distplot(a=user_rating_summary['count'], kde=True, color='r')"
      ]
    },
    {
      "cell_type": "code",
      "execution_count": 30,
      "metadata": {
        "id": "CLs-VTevvlrO"
      },
      "outputs": [],
      "source": [
        "def getMovieName(movie_ratings, movieID):\n",
        "    return movie_ratings[movie_ratings[\"movieId\"] == movieID][[\"title\", \"genres\"]].values[0]\n",
        "\n",
        "def getMovieID(movie_ratings, movieName):\n",
        "    return movie_ratings[movie_ratings[\"title\"] == movieName][[\"movieId\", \"genres\"]].values[0]"
      ]
    },
    {
      "cell_type": "markdown",
      "metadata": {
        "id": "WHeH7DsyyxCa"
      },
      "source": [
        "## 영화 데이터를 surprise 모듈을 통해 로딩"
      ]
    },
    {
      "cell_type": "code",
      "execution_count": 31,
      "metadata": {
        "colab": {
          "base_uri": "https://localhost:8080/"
        },
        "id": "vARUVa6rzmiG",
        "outputId": "0b4fe267-1509-4cf3-f909-f57b3322f5ab"
      },
      "outputs": [
        {
          "name": "stderr",
          "output_type": "stream",
          "text": [
            "'wget'��(��) ���� �Ǵ� �ܺ� ����, ������ �� �ִ� ���α׷�, �Ǵ�\n",
            "��ġ ������ �ƴմϴ�.\n"
          ]
        }
      ],
      "source": [
        "!wget \"https://grepp-reco-test.s3.ap-northeast-2.amazonaws.com/movielens/ratings.csv\""
      ]
    },
    {
      "cell_type": "code",
      "execution_count": 33,
      "metadata": {
        "colab": {
          "base_uri": "https://localhost:8080/",
          "height": 179
        },
        "id": "ZgtyCtMaw8Eq",
        "outputId": "feec97fc-4da2-4633-dbcf-c31a5a89d28e"
      },
      "outputs": [],
      "source": [
        "reader = Reader(line_format='user item rating timestamp', sep=',', skip_lines=1)\n",
        "data = Dataset.load_from_file(\"ratings.csv\", reader=reader)"
      ]
    },
    {
      "cell_type": "code",
      "execution_count": 34,
      "metadata": {
        "id": "xn5gBOTgzWAR"
      },
      "outputs": [],
      "source": [
        "from surprise import KNNBasic\n",
        "import heapq\n",
        "from collections import defaultdict"
      ]
    },
    {
      "cell_type": "code",
      "execution_count": 35,
      "metadata": {
        "id": "RpkLzRulzza3"
      },
      "outputs": [],
      "source": [
        "trainSet = data.build_full_trainset()"
      ]
    },
    {
      "cell_type": "code",
      "execution_count": 36,
      "metadata": {
        "id": "7SulaH4Qz42-"
      },
      "outputs": [
        {
          "name": "stdout",
          "output_type": "stream",
          "text": [
            "Computing the cosine similarity matrix...\n",
            "Done computing similarity matrix.\n",
            "Computing the cosine similarity matrix...\n",
            "Done computing similarity matrix.\n"
          ]
        }
      ],
      "source": [
        "sim_options = {\n",
        "    'name': 'cosine',\n",
        "    'user_based': True\n",
        "}\n",
        "\n",
        "model = KNNBasic(sim_options=sim_options)\n",
        "model.fit(trainSet)\n",
        "simsMatrix = model.compute_similarities()"
      ]
    },
    {
      "cell_type": "code",
      "execution_count": 37,
      "metadata": {
        "id": "dYnKIcfx0BNh"
      },
      "outputs": [
        {
          "name": "stdout",
          "output_type": "stream",
          "text": [
            "84\n"
          ]
        }
      ],
      "source": [
        "testUser = '85'\n",
        "k = 10\n",
        "\n",
        "# 주어진 사용자와 가장 흡사한 사용자 N을 찾는다\n",
        "# 먼저 이를 Surprise 내부 ID로 변환\n",
        "testUserInnerID = trainSet.to_inner_uid(testUser)\n",
        "print(testUserInnerID)\n",
        "# 이 사용자에 해당하는 레코드를 읽어온다\n",
        "similarityRow = simsMatrix[testUserInnerID]"
      ]
    },
    {
      "cell_type": "code",
      "execution_count": 38,
      "metadata": {
        "id": "ZXT62k1C0MXA"
      },
      "outputs": [],
      "source": [
        "# users에 모든 사용자들을 일련번호와 유사도를 갖는 튜플의 형태로 저장\n",
        "# 이 때 본인은 제외\n",
        "users = []\n",
        "for innerID, score in enumerate(similarityRow):\n",
        "    if (innerID != testUserInnerID):\n",
        "        users.append( (innerID, score) )"
      ]
    },
    {
      "cell_type": "code",
      "execution_count": 39,
      "metadata": {
        "id": "VfKtrD4_0NVI"
      },
      "outputs": [],
      "source": [
        "# 이제 users 리트스에서 유사도 값을 기준으로 가장 큰 k개를 찾는다\n",
        "kNeighbors = heapq.nlargest(k, users, key=lambda t: t[1])"
      ]
    },
    {
      "cell_type": "code",
      "execution_count": 40,
      "metadata": {
        "id": "TZ1PfUxeI7zk"
      },
      "outputs": [
        {
          "data": {
            "text/plain": [
              "[(10, 1.0),\n",
              " (11, 1.0),\n",
              " (13, 1.0),\n",
              " (24, 1.0),\n",
              " (36, 1.0),\n",
              " (44, 1.0),\n",
              " (45, 1.0),\n",
              " (51, 1.0),\n",
              " (53, 1.0),\n",
              " (61, 1.0)]"
            ]
          },
          "execution_count": 40,
          "metadata": {},
          "output_type": "execute_result"
        }
      ],
      "source": [
        "kNeighbors"
      ]
    },
    {
      "cell_type": "code",
      "execution_count": 41,
      "metadata": {
        "id": "vFfjdVUM0T0p"
      },
      "outputs": [],
      "source": [
        "# 이제 유사 사용자들을 하나씩 보면서 그들이 평가한 아이템들별로 원 사용자와 유사 사용자간의 유사도를 가중치로 준 평점을 누적한다\n",
        "\n",
        "# candidates에는 아이템별로 점수를 누적한다. 유사사용자(u')의 평점 * 사용자(u)와 유사 사용자(u')의 유사도\n",
        "candidates = defaultdict(float)\n",
        "\n",
        "# 이 K명의 최고 유사 사용자를 한명씩 루프를 돌면서 살펴본다\n",
        "for similarUser in kNeighbors:\n",
        "    # similarUser는 앞서 enumerate로 만든 그 포맷임 - (내부ID, 유사도값)\n",
        "    innerID = similarUser[0]\n",
        "    userSimilarityScore = similarUser[1]\n",
        "\n",
        "    # innerID에 해당하는 사용자의 아이템과 평점 정보를 읽어온다.\n",
        "    # theirRatings는 (아이템ID, 평점)의 리스트임\n",
        "    theirRatings = trainSet.ur[innerID]\n",
        "    # innerID가 평가한 모든 아이템 리스트를 하나씩 보면서 \n",
        "    # 아이템ID별로 평점 정보를 합산하되 사용자와의 유사도값을 가중치로 준다\n",
        "    for rating in theirRatings:\n",
        "        candidates[rating[0]] += (rating[1]) * userSimilarityScore"
      ]
    },
    {
      "cell_type": "code",
      "execution_count": 42,
      "metadata": {
        "id": "LB0Z8koI0WWR"
      },
      "outputs": [],
      "source": [
        "# 사용자가 이미 평가한 아이템들을 제거할 사전을 만든다\n",
        "watched = {}\n",
        "for itemID, rating in trainSet.ur[testUserInnerID]:\n",
        "    watched[itemID] = 1"
      ]
    },
    {
      "cell_type": "code",
      "execution_count": 43,
      "metadata": {
        "id": "Lj-Tmcat0YlM"
      },
      "outputs": [
        {
          "name": "stdout",
          "output_type": "stream",
          "text": [
            "79132 ['Inception (2010)' 'Action|Crime|Drama|Mystery|Sci-Fi|Thriller|IMAX'] 16.5\n",
            "1196 ['Star Wars: Episode V - The Empire Strikes Back (1980)'\n",
            " 'Action|Adventure|Sci-Fi'] 12.0\n",
            "26614 ['Bourne Identity, The (1988)' 'Action|Adventure|Drama|Mystery|Thriller'] 10.0\n",
            "3996 ['Crouching Tiger, Hidden Dragon (Wo hu cang long) (2000)'\n",
            " 'Action|Drama|Romance'] 10.0\n",
            "58559 ['Dark Knight, The (2008)' 'Action|Crime|Drama|IMAX'] 10.0\n",
            "1201 ['Good, the Bad and the Ugly, The (Buono, il brutto, il cattivo, Il) (1966)'\n",
            " 'Action|Adventure|Western'] 9.5\n",
            "48516 ['Departed, The (2006)' 'Crime|Drama|Thriller'] 9.5\n",
            "91529 ['Dark Knight Rises, The (2012)' 'Action|Adventure|Crime|IMAX'] 9.5\n",
            "1270 ['Back to the Future (1985)' 'Adventure|Comedy|Sci-Fi'] 9.5\n",
            "104841 ['Gravity (2013)' 'Action|Sci-Fi|IMAX'] 9.0\n",
            "2959 ['Fight Club (1999)' 'Action|Crime|Drama|Thriller'] 9.0\n"
          ]
        }
      ],
      "source": [
        "# 앞서 candidates에서 합산된 스코어를 기준으로 내림차순으로 소팅한 후\n",
        "# 사용자(u)가 아직 못본 아이템인 경우 추천한다\n",
        "pos = 0\n",
        "for itemID, ratingSum in sorted(candidates.items(), key=lambda k: k[1], reverse=True):\n",
        "    if not itemID in watched:\n",
        "        movieID = trainSet.to_raw_iid(itemID)\n",
        "        print(movieID, getMovieName(movie_ratings, int(movieID)), ratingSum)\n",
        "        pos += 1\n",
        "        if (pos > 10):\n",
        "            break"
      ]
    },
    {
      "cell_type": "code",
      "execution_count": 44,
      "metadata": {
        "id": "fKAMNwFq8w8t"
      },
      "outputs": [],
      "source": [
        "def recommendForUser(userID):\n",
        "    testUserInnerID = trainSet.to_inner_uid(userID)\n",
        "    similarityRow = simsMatrix[testUserInnerID]\n",
        "\n",
        "    users = []\n",
        "    for innerID, score in enumerate(similarityRow):\n",
        "        if (innerID != testUserInnerID):\n",
        "            users.append( (innerID, score) )\n",
        "\n",
        "    kNeighbors = heapq.nlargest(k, users, key=lambda t: t[1])\n",
        "\n",
        "    candidates = defaultdict(float)\n",
        "    for similarUser in kNeighbors:\n",
        "        innerID = similarUser[0]\n",
        "        userSimilarityScore = similarUser[1]\n",
        "        theirRatings = trainSet.ur[innerID]\n",
        "        for rating in theirRatings:\n",
        "            candidates[rating[0]] += (rating[1]) * userSimilarityScore\n",
        "\n",
        "    watched = {}\n",
        "    for itemID, rating in trainSet.ur[testUserInnerID]:\n",
        "        watched[itemID] = 1\n",
        "\n",
        "    pos = 0\n",
        "    for itemID, ratingSum in sorted(candidates.items(), key=lambda k: k[1], reverse=True):\n",
        "        if not itemID in watched:\n",
        "            movieID = trainSet.to_raw_iid(itemID)\n",
        "            print(movieID, getMovieName(movie_ratings, int(movieID)), ratingSum)\n",
        "            pos += 1\n",
        "            if (pos > 10):\n",
        "                break"
      ]
    },
    {
      "cell_type": "code",
      "execution_count": 45,
      "metadata": {
        "id": "35XfhXKpXWlD"
      },
      "outputs": [
        {
          "name": "stdout",
          "output_type": "stream",
          "text": [
            "79132 ['Inception (2010)' 'Action|Crime|Drama|Mystery|Sci-Fi|Thriller|IMAX'] 16.5\n",
            "1196 ['Star Wars: Episode V - The Empire Strikes Back (1980)'\n",
            " 'Action|Adventure|Sci-Fi'] 12.0\n",
            "26614 ['Bourne Identity, The (1988)' 'Action|Adventure|Drama|Mystery|Thriller'] 10.0\n",
            "3996 ['Crouching Tiger, Hidden Dragon (Wo hu cang long) (2000)'\n",
            " 'Action|Drama|Romance'] 10.0\n",
            "58559 ['Dark Knight, The (2008)' 'Action|Crime|Drama|IMAX'] 10.0\n",
            "1201 ['Good, the Bad and the Ugly, The (Buono, il brutto, il cattivo, Il) (1966)'\n",
            " 'Action|Adventure|Western'] 9.5\n",
            "48516 ['Departed, The (2006)' 'Crime|Drama|Thriller'] 9.5\n",
            "91529 ['Dark Knight Rises, The (2012)' 'Action|Adventure|Crime|IMAX'] 9.5\n",
            "1270 ['Back to the Future (1985)' 'Adventure|Comedy|Sci-Fi'] 9.5\n",
            "104841 ['Gravity (2013)' 'Action|Sci-Fi|IMAX'] 9.0\n",
            "2959 ['Fight Club (1999)' 'Action|Crime|Drama|Thriller'] 9.0\n"
          ]
        }
      ],
      "source": [
        "recommendForUser('85')"
      ]
    },
    {
      "cell_type": "code",
      "execution_count": null,
      "metadata": {
        "id": "qn_PflKmXY63"
      },
      "outputs": [],
      "source": []
    }
  ],
  "metadata": {
    "colab": {
      "include_colab_link": true,
      "name": "(KDT) 사용자 기반 협업 필터링 추천",
      "provenance": []
    },
    "kernelspec": {
      "display_name": "Python 3",
      "name": "python3"
    },
    "language_info": {
      "codemirror_mode": {
        "name": "ipython",
        "version": 3
      },
      "file_extension": ".py",
      "mimetype": "text/x-python",
      "name": "python",
      "nbconvert_exporter": "python",
      "pygments_lexer": "ipython3",
      "version": "3.10.7"
    }
  },
  "nbformat": 4,
  "nbformat_minor": 0
}
